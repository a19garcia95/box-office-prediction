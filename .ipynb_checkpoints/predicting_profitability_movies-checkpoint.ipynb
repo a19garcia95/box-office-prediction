{
 "cells": [
  {
   "cell_type": "markdown",
   "metadata": {},
   "source": [
    "<div align=\"right\">\n",
    "  ### Alejandro Garcia\n",
    "</div>\n",
    "<h1><center>Predicting profitability from movies dataset</center></h1> "
   ]
  },
  {
   "cell_type": "markdown",
   "metadata": {},
   "source": [
    "## Table of Content\n",
    "### 1.) Introduction\n",
    "### 2.) Dataset\n",
    "### 3.) Exploratory Data Analysis\n",
    "### 4.) Data Wrangling\n",
    "### 5.) Machine Learning\n",
    "### 6.) Conclusion"
   ]
  },
  {
   "cell_type": "markdown",
   "metadata": {},
   "source": [
    "###  <center>Introduction</center>\n",
    "The main objective of this project is to accuratly predict the profitability of a movie based on numerous parameters shown below. I will start with EDA to get familiar with the data and start to think about crafting a possible solution to this problem. I will then proceed to wrangling and cleaning the data for our model to work properly. Finally, I will configure several machine learning models and decide which one gives us the best results.\n",
    "\n",
    "Note: If you have any questions about this project please feel free to shoot over an email: a19garcia95@gmail.com.\n"
   ]
  },
  {
   "cell_type": "markdown",
   "metadata": {},
   "source": [
    "###  <center>Dataset</center>\n",
    "The data comes from www.IMBd.com which is a website used to review movies. Here is a preview of what the data looks like.\n"
   ]
  },
  {
   "cell_type": "code",
   "execution_count": 3,
   "metadata": {},
   "outputs": [
    {
     "data": {
      "text/html": [
       "<div>\n",
       "<style scoped>\n",
       "    .dataframe tbody tr th:only-of-type {\n",
       "        vertical-align: middle;\n",
       "    }\n",
       "\n",
       "    .dataframe tbody tr th {\n",
       "        vertical-align: top;\n",
       "    }\n",
       "\n",
       "    .dataframe thead th {\n",
       "        text-align: right;\n",
       "    }\n",
       "</style>\n",
       "<table border=\"1\" class=\"dataframe\">\n",
       "  <thead>\n",
       "    <tr style=\"text-align: right;\">\n",
       "      <th></th>\n",
       "      <th>budget</th>\n",
       "      <th>country</th>\n",
       "      <th>director</th>\n",
       "      <th>genre</th>\n",
       "      <th>gross</th>\n",
       "      <th>name</th>\n",
       "      <th>rating</th>\n",
       "      <th>runtime</th>\n",
       "      <th>score</th>\n",
       "      <th>star</th>\n",
       "      <th>studio</th>\n",
       "      <th>votes</th>\n",
       "    </tr>\n",
       "  </thead>\n",
       "  <tbody>\n",
       "    <tr>\n",
       "      <th>0</th>\n",
       "      <td>237000000.0</td>\n",
       "      <td>UK</td>\n",
       "      <td>James Cameron</td>\n",
       "      <td>Action</td>\n",
       "      <td>760507625.0</td>\n",
       "      <td>Avatar (2009)</td>\n",
       "      <td>PG-13</td>\n",
       "      <td>162</td>\n",
       "      <td>7.8</td>\n",
       "      <td>Sam Worthington</td>\n",
       "      <td>Twentieth Century Fox Film Corporation</td>\n",
       "      <td>958400</td>\n",
       "    </tr>\n",
       "    <tr>\n",
       "      <th>1</th>\n",
       "      <td>200000000.0</td>\n",
       "      <td>USA</td>\n",
       "      <td>James Cameron</td>\n",
       "      <td>Drama</td>\n",
       "      <td>658672302.0</td>\n",
       "      <td>Titanic (1997)</td>\n",
       "      <td>PG-13</td>\n",
       "      <td>194</td>\n",
       "      <td>7.8</td>\n",
       "      <td>Leonardo DiCaprio</td>\n",
       "      <td>Twentieth Century Fox Film Corporation</td>\n",
       "      <td>865551</td>\n",
       "    </tr>\n",
       "    <tr>\n",
       "      <th>2</th>\n",
       "      <td>150000000.0</td>\n",
       "      <td>USA</td>\n",
       "      <td>Colin Trevorrow</td>\n",
       "      <td>Action</td>\n",
       "      <td>652270625.0</td>\n",
       "      <td>Jurassic World (2015)</td>\n",
       "      <td>PG-13</td>\n",
       "      <td>124</td>\n",
       "      <td>7.0</td>\n",
       "      <td>Chris Pratt</td>\n",
       "      <td>Universal Pictures</td>\n",
       "      <td>470625</td>\n",
       "    </tr>\n",
       "    <tr>\n",
       "      <th>3</th>\n",
       "      <td>220000000.0</td>\n",
       "      <td>USA</td>\n",
       "      <td>Joss Whedon</td>\n",
       "      <td>Action</td>\n",
       "      <td>623357910.0</td>\n",
       "      <td>The Avengers (2012)</td>\n",
       "      <td>PG-13</td>\n",
       "      <td>143</td>\n",
       "      <td>8.1</td>\n",
       "      <td>Robert Downey Jr.</td>\n",
       "      <td>Marvel Studios</td>\n",
       "      <td>1069292</td>\n",
       "    </tr>\n",
       "    <tr>\n",
       "      <th>4</th>\n",
       "      <td>185000000.0</td>\n",
       "      <td>USA</td>\n",
       "      <td>Christopher Nolan</td>\n",
       "      <td>Action</td>\n",
       "      <td>534858444.0</td>\n",
       "      <td>The Dark Knight (2008)</td>\n",
       "      <td>PG-13</td>\n",
       "      <td>152</td>\n",
       "      <td>9.0</td>\n",
       "      <td>Christian Bale</td>\n",
       "      <td>Warner Bros.</td>\n",
       "      <td>1845853</td>\n",
       "    </tr>\n",
       "  </tbody>\n",
       "</table>\n",
       "</div>"
      ],
      "text/plain": [
       "        budget country           director   genre        gross  \\\n",
       "0  237000000.0      UK      James Cameron  Action  760507625.0   \n",
       "1  200000000.0     USA      James Cameron   Drama  658672302.0   \n",
       "2  150000000.0     USA    Colin Trevorrow  Action  652270625.0   \n",
       "3  220000000.0     USA        Joss Whedon  Action  623357910.0   \n",
       "4  185000000.0     USA  Christopher Nolan  Action  534858444.0   \n",
       "\n",
       "                     name rating  runtime  score               star  \\\n",
       "0           Avatar (2009)  PG-13      162    7.8    Sam Worthington   \n",
       "1          Titanic (1997)  PG-13      194    7.8  Leonardo DiCaprio   \n",
       "2   Jurassic World (2015)  PG-13      124    7.0        Chris Pratt   \n",
       "3     The Avengers (2012)  PG-13      143    8.1  Robert Downey Jr.   \n",
       "4  The Dark Knight (2008)  PG-13      152    9.0     Christian Bale   \n",
       "\n",
       "                                   studio    votes  \n",
       "0  Twentieth Century Fox Film Corporation   958400  \n",
       "1  Twentieth Century Fox Film Corporation   865551  \n",
       "2                      Universal Pictures   470625  \n",
       "3                          Marvel Studios  1069292  \n",
       "4                            Warner Bros.  1845853  "
      ]
     },
     "execution_count": 3,
     "metadata": {},
     "output_type": "execute_result"
    }
   ],
   "source": [
    "import pandas as pd\n",
    "df = pd.read_csv(\"box_office_predictions.csv\") \n",
    "df.head()"
   ]
  },
  {
   "cell_type": "markdown",
   "metadata": {},
   "source": [
    "###  <center>Exploratory Data Analysis</center>"
   ]
  },
  {
   "cell_type": "code",
   "execution_count": 4,
   "metadata": {},
   "outputs": [
    {
     "data": {
      "text/html": [
       "<div>\n",
       "<style scoped>\n",
       "    .dataframe tbody tr th:only-of-type {\n",
       "        vertical-align: middle;\n",
       "    }\n",
       "\n",
       "    .dataframe tbody tr th {\n",
       "        vertical-align: top;\n",
       "    }\n",
       "\n",
       "    .dataframe thead th {\n",
       "        text-align: right;\n",
       "    }\n",
       "</style>\n",
       "<table border=\"1\" class=\"dataframe\">\n",
       "  <thead>\n",
       "    <tr style=\"text-align: right;\">\n",
       "      <th></th>\n",
       "      <th>budget</th>\n",
       "      <th>gross</th>\n",
       "      <th>runtime</th>\n",
       "      <th>score</th>\n",
       "      <th>votes</th>\n",
       "    </tr>\n",
       "  </thead>\n",
       "  <tbody>\n",
       "    <tr>\n",
       "      <th>count</th>\n",
       "      <td>6.000000e+03</td>\n",
       "      <td>6.000000e+03</td>\n",
       "      <td>6000.000000</td>\n",
       "      <td>6000.000000</td>\n",
       "      <td>6.000000e+03</td>\n",
       "    </tr>\n",
       "    <tr>\n",
       "      <th>mean</th>\n",
       "      <td>2.469918e+07</td>\n",
       "      <td>3.341635e+07</td>\n",
       "      <td>106.587000</td>\n",
       "      <td>6.386383</td>\n",
       "      <td>7.188537e+04</td>\n",
       "    </tr>\n",
       "    <tr>\n",
       "      <th>std</th>\n",
       "      <td>3.721710e+07</td>\n",
       "      <td>5.735205e+07</td>\n",
       "      <td>18.026885</td>\n",
       "      <td>0.994921</td>\n",
       "      <td>1.308033e+05</td>\n",
       "    </tr>\n",
       "    <tr>\n",
       "      <th>min</th>\n",
       "      <td>0.000000e+00</td>\n",
       "      <td>4.410000e+02</td>\n",
       "      <td>50.000000</td>\n",
       "      <td>1.500000</td>\n",
       "      <td>2.700000e+01</td>\n",
       "    </tr>\n",
       "    <tr>\n",
       "      <th>25%</th>\n",
       "      <td>0.000000e+00</td>\n",
       "      <td>1.527796e+06</td>\n",
       "      <td>95.000000</td>\n",
       "      <td>5.800000</td>\n",
       "      <td>7.791750e+03</td>\n",
       "    </tr>\n",
       "    <tr>\n",
       "      <th>50%</th>\n",
       "      <td>1.100000e+07</td>\n",
       "      <td>1.229897e+07</td>\n",
       "      <td>102.000000</td>\n",
       "      <td>6.500000</td>\n",
       "      <td>2.660150e+04</td>\n",
       "    </tr>\n",
       "    <tr>\n",
       "      <th>75%</th>\n",
       "      <td>3.262500e+07</td>\n",
       "      <td>4.007256e+07</td>\n",
       "      <td>115.000000</td>\n",
       "      <td>7.100000</td>\n",
       "      <td>7.677475e+04</td>\n",
       "    </tr>\n",
       "    <tr>\n",
       "      <th>max</th>\n",
       "      <td>3.000000e+08</td>\n",
       "      <td>7.605076e+08</td>\n",
       "      <td>366.000000</td>\n",
       "      <td>9.300000</td>\n",
       "      <td>1.868308e+06</td>\n",
       "    </tr>\n",
       "  </tbody>\n",
       "</table>\n",
       "</div>"
      ],
      "text/plain": [
       "             budget         gross      runtime        score         votes\n",
       "count  6.000000e+03  6.000000e+03  6000.000000  6000.000000  6.000000e+03\n",
       "mean   2.469918e+07  3.341635e+07   106.587000     6.386383  7.188537e+04\n",
       "std    3.721710e+07  5.735205e+07    18.026885     0.994921  1.308033e+05\n",
       "min    0.000000e+00  4.410000e+02    50.000000     1.500000  2.700000e+01\n",
       "25%    0.000000e+00  1.527796e+06    95.000000     5.800000  7.791750e+03\n",
       "50%    1.100000e+07  1.229897e+07   102.000000     6.500000  2.660150e+04\n",
       "75%    3.262500e+07  4.007256e+07   115.000000     7.100000  7.677475e+04\n",
       "max    3.000000e+08  7.605076e+08   366.000000     9.300000  1.868308e+06"
      ]
     },
     "execution_count": 4,
     "metadata": {},
     "output_type": "execute_result"
    }
   ],
   "source": [
    "df.describe()"
   ]
  },
  {
   "cell_type": "markdown",
   "metadata": {},
   "source": [
    "Interesting enough, when we run the describe() function through the dataset, we are able to observe that the upper quartile is where most of the data is concentrated. An example of this is the cell below that shows that the top 6 countries account for most of the countries where movies are made."
   ]
  },
  {
   "cell_type": "code",
   "execution_count": 5,
   "metadata": {},
   "outputs": [
    {
     "data": {
      "text/plain": [
       "USA                               4281\n",
       "UK                                 615\n",
       "France                             249\n",
       "Canada                             126\n",
       "Germany                            119\n",
       "Australia                           71\n",
       "Japan                               59\n",
       "Spain                               50\n",
       "Italy                               47\n",
       "Ireland                             40\n",
       "Hong Kong                           38\n",
       "India                               36\n",
       "Denmark                             31\n",
       "China                               23\n",
       "South Korea                         18\n",
       "New Zealand                         17\n",
       "Sweden                              17\n",
       "Belgium                             15\n",
       "Mexico                              13\n",
       "Netherlands                         12\n",
       "Russia                              10\n",
       "Iran                                10\n",
       "Argentina                           10\n",
       "Czech Republic                       8\n",
       "Norway                               8\n",
       "Taiwan                               7\n",
       "Hungary                              7\n",
       "Switzerland                          6\n",
       "South Africa                         6\n",
       "Brazil                               5\n",
       "West Germany                         4\n",
       "Greece                               4\n",
       "Israel                               4\n",
       "Austria                              4\n",
       "Romania                              3\n",
       "Chile                                3\n",
       "Finland                              3\n",
       "Peru                                 2\n",
       "Colombia                             2\n",
       "Portugal                             2\n",
       "Indonesia                            2\n",
       "Poland                               2\n",
       "Thailand                             2\n",
       "Iceland                              1\n",
       "Bahamas                              1\n",
       "Republic of Macedonia                1\n",
       "Malta                                1\n",
       "Palestine                            1\n",
       "Federal Republic of Yugoslavia       1\n",
       "Jamaica                              1\n",
       "Saudi Arabia                         1\n",
       "Soviet Union                         1\n",
       "Name: country, dtype: int64"
      ]
     },
     "execution_count": 5,
     "metadata": {},
     "output_type": "execute_result"
    }
   ],
   "source": [
    "df['country'].value_counts()"
   ]
  },
  {
   "cell_type": "code",
   "execution_count": 6,
   "metadata": {},
   "outputs": [
    {
     "data": {
      "text/html": [
       "<div>\n",
       "<style scoped>\n",
       "    .dataframe tbody tr th:only-of-type {\n",
       "        vertical-align: middle;\n",
       "    }\n",
       "\n",
       "    .dataframe tbody tr th {\n",
       "        vertical-align: top;\n",
       "    }\n",
       "\n",
       "    .dataframe thead th {\n",
       "        text-align: right;\n",
       "    }\n",
       "</style>\n",
       "<table border=\"1\" class=\"dataframe\">\n",
       "  <thead>\n",
       "    <tr style=\"text-align: right;\">\n",
       "      <th></th>\n",
       "      <th>score</th>\n",
       "      <th>votes</th>\n",
       "      <th>budget</th>\n",
       "      <th>gross</th>\n",
       "      <th>runtime</th>\n",
       "    </tr>\n",
       "  </thead>\n",
       "  <tbody>\n",
       "    <tr>\n",
       "      <th>score</th>\n",
       "      <td>1.000000</td>\n",
       "      <td>0.393703</td>\n",
       "      <td>0.039169</td>\n",
       "      <td>0.161371</td>\n",
       "      <td>0.393470</td>\n",
       "    </tr>\n",
       "    <tr>\n",
       "      <th>votes</th>\n",
       "      <td>0.393703</td>\n",
       "      <td>1.000000</td>\n",
       "      <td>0.504808</td>\n",
       "      <td>0.664010</td>\n",
       "      <td>0.308524</td>\n",
       "    </tr>\n",
       "    <tr>\n",
       "      <th>budget</th>\n",
       "      <td>0.039169</td>\n",
       "      <td>0.504808</td>\n",
       "      <td>1.000000</td>\n",
       "      <td>0.716826</td>\n",
       "      <td>0.264963</td>\n",
       "    </tr>\n",
       "    <tr>\n",
       "      <th>gross</th>\n",
       "      <td>0.161371</td>\n",
       "      <td>0.664010</td>\n",
       "      <td>0.716826</td>\n",
       "      <td>1.000000</td>\n",
       "      <td>0.224996</td>\n",
       "    </tr>\n",
       "    <tr>\n",
       "      <th>runtime</th>\n",
       "      <td>0.393470</td>\n",
       "      <td>0.308524</td>\n",
       "      <td>0.264963</td>\n",
       "      <td>0.224996</td>\n",
       "      <td>1.000000</td>\n",
       "    </tr>\n",
       "  </tbody>\n",
       "</table>\n",
       "</div>"
      ],
      "text/plain": [
       "            score     votes    budget     gross   runtime\n",
       "score    1.000000  0.393703  0.039169  0.161371  0.393470\n",
       "votes    0.393703  1.000000  0.504808  0.664010  0.308524\n",
       "budget   0.039169  0.504808  1.000000  0.716826  0.264963\n",
       "gross    0.161371  0.664010  0.716826  1.000000  0.224996\n",
       "runtime  0.393470  0.308524  0.264963  0.224996  1.000000"
      ]
     },
     "execution_count": 6,
     "metadata": {},
     "output_type": "execute_result"
    }
   ],
   "source": [
    "df[['score', 'votes', 'budget', 'gross', 'runtime']].corr()"
   ]
  },
  {
   "cell_type": "markdown",
   "metadata": {},
   "source": [
    "We can state that if the correlation between 2 variables is over 50%, it is highly correleated and therefore important for our machine learning model later on. In this case, budget-votes, gross-votes, budget-gross, are highly correlated. Later on I will run the same function on our cleaned dataset and observe wether the correleations remain the same."
   ]
  },
  {
   "cell_type": "markdown",
   "metadata": {},
   "source": [
    "Another graph that I find very helpful when trying to understand the data given to use, is the histrogram. In this case we can observe how our numerical variables behave. (Histogram shown below)"
   ]
  },
  {
   "cell_type": "code",
   "execution_count": 7,
   "metadata": {},
   "outputs": [
    {
     "data": {
      "image/png": "[encoded data removed]",
      "text/plain": [
       "<Figure size 576x504 with 6 Axes>"
      ]
     },
     "metadata": {},
     "output_type": "display_data"
    }
   ],
   "source": [
    "import matplotlib.pyplot as plt\n",
    "%matplotlib inline\n",
    "df.hist(figsize=(8,7))\n",
    "plt.show()"
   ]
  },
  {
   "cell_type": "markdown",
   "metadata": {},
   "source": [
    "### NOTE: The next couple of bar graphs show how diferent categorical variables relate to our most important variable so far, which is 'Gross'. This is the revenue generated. I state that 'Gross' is our most important variable because the more revenue generated, the better the movie. This is generally how it goes. Of course, this is not always the case."
   ]
  },
  {
   "cell_type": "code",
   "execution_count": 8,
   "metadata": {},
   "outputs": [
    {
     "data": {
      "text/plain": [
       "Text(0,0.5,'Gross')"
      ]
     },
     "execution_count": 8,
     "metadata": {},
     "output_type": "execute_result"
    },
    {
     "data": {
      "image/png": "[encoded data removed]",
      "text/plain": [
       "<Figure size 1296x864 with 1 Axes>"
      ]
     },
     "metadata": {},
     "output_type": "display_data"
    }
   ],
   "source": [
    "x_axis = df['genre']\n",
    "y_axis = df['gross']\n",
    "width = 18\n",
    "height = 12\n",
    "plt.figure(figsize=(width, height))\n",
    "plt.bar(x_axis, y_axis)\n",
    "plt.xlabel('Genre', fontsize=14)\n",
    "plt.ylabel('Gross', fontsize=14)"
   ]
  },
  {
   "cell_type": "code",
   "execution_count": 9,
   "metadata": {},
   "outputs": [
    {
     "name": "stdout",
     "output_type": "stream",
     "text": [
      "0       Action\n",
      "1        Drama\n",
      "2       Action\n",
      "3       Action\n",
      "4       Action\n",
      "5       Action\n",
      "6       Action\n",
      "7       Action\n",
      "8       Action\n",
      "9    Animation\n",
      "Name: genre, dtype: object\n"
     ]
    }
   ],
   "source": [
    "print(df['genre'].head(10))"
   ]
  },
  {
   "cell_type": "code",
   "execution_count": 10,
   "metadata": {},
   "outputs": [
    {
     "data": {
      "text/plain": [
       "pandas.core.series.Series"
      ]
     },
     "execution_count": 10,
     "metadata": {},
     "output_type": "execute_result"
    }
   ],
   "source": [
    "xx = df['studio'].where(df['gross'] > 200000000)\n",
    "type(xx)"
   ]
  },
  {
   "cell_type": "code",
   "execution_count": 11,
   "metadata": {},
   "outputs": [
    {
     "data": {
      "text/plain": [
       "Text(0,0.5,'Gross')"
      ]
     },
     "execution_count": 11,
     "metadata": {},
     "output_type": "execute_result"
    },
    {
     "data": {
      "image/png": "[encoded data removed]",
      "text/plain": [
       "<Figure size 1296x864 with 1 Axes>"
      ]
     },
     "metadata": {},
     "output_type": "display_data"
    }
   ],
   "source": [
    "x_axis = df['studio']\n",
    "y_axis = df['gross']\n",
    "width = 18\n",
    "height = 12\n",
    "plt.figure(figsize=(width, height))\n",
    "plt.bar(x_axis, y_axis)\n",
    "plt.xlabel('Studio', fontsize=14)\n",
    "plt.ylabel('Gross', fontsize=14)"
   ]
  },
  {
   "cell_type": "code",
   "execution_count": 12,
   "metadata": {},
   "outputs": [
    {
     "data": {
      "text/plain": [
       "Text(0,0.5,'Gross')"
      ]
     },
     "execution_count": 12,
     "metadata": {},
     "output_type": "execute_result"
    },
    {
     "data": {
      "image/png": "[encoded data removed]",
      "text/plain": [
       "<Figure size 1296x864 with 1 Axes>"
      ]
     },
     "metadata": {},
     "output_type": "display_data"
    }
   ],
   "source": [
    "x_axis = df['director']\n",
    "y_axis = df['gross']\n",
    "width = 18\n",
    "height = 12\n",
    "plt.figure(figsize=(width, height))\n",
    "plt.bar(x_axis, y_axis)\n",
    "plt.xlabel('Director', fontsize=14)\n",
    "plt.ylabel('Gross', fontsize=14)"
   ]
  },
  {
   "cell_type": "code",
   "execution_count": 13,
   "metadata": {},
   "outputs": [
    {
     "data": {
      "text/plain": [
       "Text(0,0.5,'Gross')"
      ]
     },
     "execution_count": 13,
     "metadata": {},
     "output_type": "execute_result"
    },
    {
     "data": {
      "image/png": "[encoded data removed]",
      "text/plain": [
       "<Figure size 1296x864 with 1 Axes>"
      ]
     },
     "metadata": {},
     "output_type": "display_data"
    }
   ],
   "source": [
    "x_axis = df['rating']\n",
    "y_axis = df['gross']\n",
    "width = 18\n",
    "height = 12\n",
    "plt.figure(figsize=(width, height))\n",
    "plt.bar(x_axis, y_axis)\n",
    "plt.xlabel('Rating', fontsize=14)\n",
    "plt.ylabel('Gross', fontsize=14)"
   ]
  },
  {
   "cell_type": "markdown",
   "metadata": {},
   "source": [
    "### <center>Data Wrangling</center>"
   ]
  },
  {
   "cell_type": "code",
   "execution_count": 15,
   "metadata": {},
   "outputs": [
    {
     "data": {
      "text/html": [
       "<div>\n",
       "<style scoped>\n",
       "    .dataframe tbody tr th:only-of-type {\n",
       "        vertical-align: middle;\n",
       "    }\n",
       "\n",
       "    .dataframe tbody tr th {\n",
       "        vertical-align: top;\n",
       "    }\n",
       "\n",
       "    .dataframe thead th {\n",
       "        text-align: right;\n",
       "    }\n",
       "</style>\n",
       "<table border=\"1\" class=\"dataframe\">\n",
       "  <thead>\n",
       "    <tr style=\"text-align: right;\">\n",
       "      <th></th>\n",
       "      <th>budget</th>\n",
       "      <th>country</th>\n",
       "      <th>director</th>\n",
       "      <th>genre</th>\n",
       "      <th>gross</th>\n",
       "      <th>name</th>\n",
       "      <th>rating</th>\n",
       "      <th>runtime</th>\n",
       "      <th>score</th>\n",
       "      <th>star</th>\n",
       "      <th>studio</th>\n",
       "      <th>votes</th>\n",
       "    </tr>\n",
       "  </thead>\n",
       "  <tbody>\n",
       "    <tr>\n",
       "      <th>56</th>\n",
       "      <td>0.0</td>\n",
       "      <td>UK</td>\n",
       "      <td>David Yates</td>\n",
       "      <td>Adventure</td>\n",
       "      <td>295983305.0</td>\n",
       "      <td>Harry Potter and the Deathly Hallows: Part 1 (...</td>\n",
       "      <td>PG-13</td>\n",
       "      <td>146</td>\n",
       "      <td>7.7</td>\n",
       "      <td>Daniel Radcliffe</td>\n",
       "      <td>Warner Bros.</td>\n",
       "      <td>370003</td>\n",
       "    </tr>\n",
       "    <tr>\n",
       "      <th>207</th>\n",
       "      <td>0.0</td>\n",
       "      <td>USA</td>\n",
       "      <td>Walt Becker</td>\n",
       "      <td>Action</td>\n",
       "      <td>168273550.0</td>\n",
       "      <td>Wild Hogs (2007)</td>\n",
       "      <td>PG-13</td>\n",
       "      <td>100</td>\n",
       "      <td>5.9</td>\n",
       "      <td>Tim Allen</td>\n",
       "      <td>Touchstone Pictures</td>\n",
       "      <td>104657</td>\n",
       "    </tr>\n",
       "    <tr>\n",
       "      <th>431</th>\n",
       "      <td>0.0</td>\n",
       "      <td>USA</td>\n",
       "      <td>John G. Avildsen</td>\n",
       "      <td>Action</td>\n",
       "      <td>115103979.0</td>\n",
       "      <td>The Karate Kid Part II (1986)</td>\n",
       "      <td>PG</td>\n",
       "      <td>113</td>\n",
       "      <td>5.9</td>\n",
       "      <td>Pat Morita</td>\n",
       "      <td>Columbia Pictures Corporation</td>\n",
       "      <td>58596</td>\n",
       "    </tr>\n",
       "    <tr>\n",
       "      <th>553</th>\n",
       "      <td>0.0</td>\n",
       "      <td>USA</td>\n",
       "      <td>Nora Ephron</td>\n",
       "      <td>Comedy</td>\n",
       "      <td>95318203.0</td>\n",
       "      <td>Michael (1996)</td>\n",
       "      <td>PG</td>\n",
       "      <td>105</td>\n",
       "      <td>5.7</td>\n",
       "      <td>John Travolta</td>\n",
       "      <td>Turner Pictures (I)</td>\n",
       "      <td>36553</td>\n",
       "    </tr>\n",
       "    <tr>\n",
       "      <th>592</th>\n",
       "      <td>0.0</td>\n",
       "      <td>USA</td>\n",
       "      <td>Tyler Perry</td>\n",
       "      <td>Comedy</td>\n",
       "      <td>90485233.0</td>\n",
       "      <td>Madea Goes to Jail (2009)</td>\n",
       "      <td>PG-13</td>\n",
       "      <td>103</td>\n",
       "      <td>4.3</td>\n",
       "      <td>Tyler Perry</td>\n",
       "      <td>Tyler Perry Company, The</td>\n",
       "      <td>10095</td>\n",
       "    </tr>\n",
       "  </tbody>\n",
       "</table>\n",
       "</div>"
      ],
      "text/plain": [
       "     budget country          director      genre        gross  \\\n",
       "56      0.0      UK       David Yates  Adventure  295983305.0   \n",
       "207     0.0     USA       Walt Becker     Action  168273550.0   \n",
       "431     0.0     USA  John G. Avildsen     Action  115103979.0   \n",
       "553     0.0     USA       Nora Ephron     Comedy   95318203.0   \n",
       "592     0.0     USA       Tyler Perry     Comedy   90485233.0   \n",
       "\n",
       "                                                  name rating  runtime  score  \\\n",
       "56   Harry Potter and the Deathly Hallows: Part 1 (...  PG-13      146    7.7   \n",
       "207                                   Wild Hogs (2007)  PG-13      100    5.9   \n",
       "431                      The Karate Kid Part II (1986)     PG      113    5.9   \n",
       "553                                     Michael (1996)     PG      105    5.7   \n",
       "592                          Madea Goes to Jail (2009)  PG-13      103    4.3   \n",
       "\n",
       "                 star                         studio   votes  \n",
       "56   Daniel Radcliffe                   Warner Bros.  370003  \n",
       "207         Tim Allen            Touchstone Pictures  104657  \n",
       "431        Pat Morita  Columbia Pictures Corporation   58596  \n",
       "553     John Travolta            Turner Pictures (I)   36553  \n",
       "592       Tyler Perry       Tyler Perry Company, The   10095  "
      ]
     },
     "execution_count": 15,
     "metadata": {},
     "output_type": "execute_result"
    }
   ],
   "source": [
    "df[df.budget == 0].head()"
   ]
  },
  {
   "cell_type": "code",
   "execution_count": null,
   "metadata": {},
   "outputs": [],
   "source": [
    "df = df.loc[df.budget > 0,:] #removing missing values"
   ]
  },
  {
   "cell_type": "code",
   "execution_count": 16,
   "metadata": {},
   "outputs": [],
   "source": [
    "#Profit would be a useful variable since not profitability is what determines success, not revenue\n",
    "df['profit'] = df.gross - df.budget"
   ]
  },
  {
   "cell_type": "code",
   "execution_count": 17,
   "metadata": {},
   "outputs": [
    {
     "data": {
      "text/html": [
       "<div>\n",
       "<style scoped>\n",
       "    .dataframe tbody tr th:only-of-type {\n",
       "        vertical-align: middle;\n",
       "    }\n",
       "\n",
       "    .dataframe tbody tr th {\n",
       "        vertical-align: top;\n",
       "    }\n",
       "\n",
       "    .dataframe thead th {\n",
       "        text-align: right;\n",
       "    }\n",
       "</style>\n",
       "<table border=\"1\" class=\"dataframe\">\n",
       "  <thead>\n",
       "    <tr style=\"text-align: right;\">\n",
       "      <th></th>\n",
       "      <th>country</th>\n",
       "      <th>director</th>\n",
       "      <th>genre</th>\n",
       "      <th>name</th>\n",
       "      <th>rating</th>\n",
       "      <th>star</th>\n",
       "      <th>studio</th>\n",
       "    </tr>\n",
       "  </thead>\n",
       "  <tbody>\n",
       "    <tr>\n",
       "      <th>count</th>\n",
       "      <td>6000</td>\n",
       "      <td>6000</td>\n",
       "      <td>6000</td>\n",
       "      <td>6000</td>\n",
       "      <td>6000</td>\n",
       "      <td>6000</td>\n",
       "      <td>6000</td>\n",
       "    </tr>\n",
       "    <tr>\n",
       "      <th>unique</th>\n",
       "      <td>52</td>\n",
       "      <td>2549</td>\n",
       "      <td>17</td>\n",
       "      <td>6000</td>\n",
       "      <td>13</td>\n",
       "      <td>2317</td>\n",
       "      <td>1996</td>\n",
       "    </tr>\n",
       "    <tr>\n",
       "      <th>top</th>\n",
       "      <td>USA</td>\n",
       "      <td>Woody Allen</td>\n",
       "      <td>Comedy</td>\n",
       "      <td>Gnomeo &amp; Juliet (2011)</td>\n",
       "      <td>R</td>\n",
       "      <td>Nicolas Cage</td>\n",
       "      <td>Universal Pictures</td>\n",
       "    </tr>\n",
       "    <tr>\n",
       "      <th>freq</th>\n",
       "      <td>4281</td>\n",
       "      <td>29</td>\n",
       "      <td>1818</td>\n",
       "      <td>1</td>\n",
       "      <td>3009</td>\n",
       "      <td>38</td>\n",
       "      <td>269</td>\n",
       "    </tr>\n",
       "  </tbody>\n",
       "</table>\n",
       "</div>"
      ],
      "text/plain": [
       "       country     director   genre                    name rating  \\\n",
       "count     6000         6000    6000                    6000   6000   \n",
       "unique      52         2549      17                    6000     13   \n",
       "top        USA  Woody Allen  Comedy  Gnomeo & Juliet (2011)      R   \n",
       "freq      4281           29    1818                       1   3009   \n",
       "\n",
       "                star              studio  \n",
       "count           6000                6000  \n",
       "unique          2317                1996  \n",
       "top     Nicolas Cage  Universal Pictures  \n",
       "freq              38                 269  "
      ]
     },
     "execution_count": 17,
     "metadata": {},
     "output_type": "execute_result"
    }
   ],
   "source": [
    "df.describe(include=['object']) "
   ]
  },
  {
   "cell_type": "code",
   "execution_count": 18,
   "metadata": {},
   "outputs": [],
   "source": [
    "#lets condense the dataset, this will give us a sense of what matters the most"
   ]
  },
  {
   "cell_type": "code",
   "execution_count": 19,
   "metadata": {},
   "outputs": [],
   "source": [
    "studio_counts = df.studio.value_counts()\n",
    "\n",
    "one_timers = studio_counts[studio_counts <= 1].index\n",
    "three_timers = studio_counts[(studio_counts > 1) & (studio_counts <= 3)].index\n",
    "five_timers = studio_counts[(studio_counts > 3) & (studio_counts <= 5)].index\n",
    "ten_timers = studio_counts[(studio_counts > 5) & (studio_counts <= 10)].index\n",
    "\n",
    "df['studio'].replace(one_timers, 'One Timer', inplace=True)\n",
    "df['studio'].replace(three_timers, 'Three Timer', inplace=True)\n",
    "df['studio'].replace(five_timers, 'Five Timer', inplace=True)\n",
    "df['studio'].replace(ten_timers, 'Ten Timer', inplace=True)"
   ]
  },
  {
   "cell_type": "code",
   "execution_count": 20,
   "metadata": {},
   "outputs": [],
   "source": [
    "star_counts = df.star.value_counts()\n",
    "\n",
    "one_timers = star_counts[star_counts <= 1].index\n",
    "three_timers = star_counts[(star_counts > 1) & (star_counts <= 3)].index\n",
    "five_timers = star_counts[(star_counts > 3) & (star_counts <= 5)].index\n",
    "ten_timers = star_counts[(star_counts > 5) & (star_counts <= 10)].index\n",
    "\n",
    "df['star'].replace(one_timers, 'One Timer', inplace=True)\n",
    "df['star'].replace(three_timers, 'Three Timer', inplace=True)\n",
    "df['star'].replace(five_timers, 'Five Timer', inplace=True)\n",
    "df['star'].replace(ten_timers, 'Ten Timer', inplace=True)"
   ]
  },
  {
   "cell_type": "code",
   "execution_count": 21,
   "metadata": {},
   "outputs": [],
   "source": [
    "director_counts = df.director.value_counts()\n",
    "\n",
    "one_timers = director_counts[director_counts <= 1].index\n",
    "three_timers = director_counts[(director_counts > 1) & (director_counts <= 3)].index\n",
    "five_timers = director_counts[(director_counts > 3) & (director_counts <= 5)].index\n",
    "ten_timers = director_counts[(director_counts > 5) & (director_counts <= 10)].index\n",
    "\n",
    "df['director'].replace(one_timers, 'One Timer', inplace=True)\n",
    "df['director'].replace(three_timers, 'Three Timer', inplace=True)\n",
    "df['director'].replace(five_timers, 'Five Timer', inplace=True)\n",
    "df['director'].replace(ten_timers, 'Ten Timer', inplace=True)"
   ]
  },
  {
   "cell_type": "code",
   "execution_count": 22,
   "metadata": {},
   "outputs": [
    {
     "data": {
      "text/plain": [
       "USA          4281\n",
       "UK            615\n",
       "Other         430\n",
       "France        249\n",
       "Canada        126\n",
       "Germany       119\n",
       "Australia      71\n",
       "Japan          59\n",
       "Spain          50\n",
       "Name: country, dtype: int64"
      ]
     },
     "execution_count": 22,
     "metadata": {},
     "output_type": "execute_result"
    }
   ],
   "source": [
    "country_counts = df.country.value_counts()\n",
    "\n",
    "other_countries = country_counts[country_counts < 50].index\n",
    "df['country'].replace(other_countries, 'Other', inplace=True)\n",
    "\n",
    "df.country.value_counts()"
   ]
  },
  {
   "cell_type": "code",
   "execution_count": 23,
   "metadata": {},
   "outputs": [
    {
     "data": {
      "text/plain": [
       "Comedy       1818\n",
       "Drama        1280\n",
       "Action       1175\n",
       "Crime         463\n",
       "Adventure     340\n",
       "Biography     309\n",
       "Animation     246\n",
       "Horror        243\n",
       "Other         126\n",
       "Name: genre, dtype: int64"
      ]
     },
     "execution_count": 23,
     "metadata": {},
     "output_type": "execute_result"
    }
   ],
   "source": [
    "genre_counts = df.genre.value_counts()\n",
    "\n",
    "other_genres = genre_counts[genre_counts < 50].index\n",
    "df['genre'].replace(other_genres, 'Other', inplace=True)\n",
    "\n",
    "df.genre.value_counts()"
   ]
  },
  {
   "cell_type": "code",
   "execution_count": 24,
   "metadata": {},
   "outputs": [],
   "source": [
    "df['rating'].replace(['NOT RATED', 'UNRATED', 'Not specified'], 'NR', inplace=True)"
   ]
  },
  {
   "cell_type": "code",
   "execution_count": 57,
   "metadata": {},
   "outputs": [
    {
     "data": {
      "text/plain": [
       "17"
      ]
     },
     "execution_count": 57,
     "metadata": {},
     "output_type": "execute_result"
    }
   ],
   "source": [
    "#Function will return how long the movie has been out\n",
    "\n",
    "def extract_age(s, today=2014):\n",
    "    return today - int( s[-5:-1] )\n",
    "\n",
    "extract_age('Titanic (1997)') "
   ]
  },
  {
   "cell_type": "code",
   "execution_count": 58,
   "metadata": {},
   "outputs": [],
   "source": [
    "df['age'] = df.name.apply(extract_age)"
   ]
  },
  {
   "cell_type": "markdown",
   "metadata": {},
   "source": [
    "### <center>Machine Learning</center>"
   ]
  },
  {
   "cell_type": "code",
   "execution_count": 59,
   "metadata": {},
   "outputs": [
    {
     "data": {
      "text/html": [
       "<div>\n",
       "<style scoped>\n",
       "    .dataframe tbody tr th:only-of-type {\n",
       "        vertical-align: middle;\n",
       "    }\n",
       "\n",
       "    .dataframe tbody tr th {\n",
       "        vertical-align: top;\n",
       "    }\n",
       "\n",
       "    .dataframe thead th {\n",
       "        text-align: right;\n",
       "    }\n",
       "</style>\n",
       "<table border=\"1\" class=\"dataframe\">\n",
       "  <thead>\n",
       "    <tr style=\"text-align: right;\">\n",
       "      <th></th>\n",
       "      <th>score</th>\n",
       "      <th>votes</th>\n",
       "      <th>profit</th>\n",
       "      <th>budget</th>\n",
       "    </tr>\n",
       "  </thead>\n",
       "  <tbody>\n",
       "    <tr>\n",
       "      <th>score</th>\n",
       "      <td>1.000000</td>\n",
       "      <td>0.393703</td>\n",
       "      <td>0.194065</td>\n",
       "      <td>0.039169</td>\n",
       "    </tr>\n",
       "    <tr>\n",
       "      <th>votes</th>\n",
       "      <td>0.393703</td>\n",
       "      <td>1.000000</td>\n",
       "      <td>0.480234</td>\n",
       "      <td>0.504808</td>\n",
       "    </tr>\n",
       "    <tr>\n",
       "      <th>profit</th>\n",
       "      <td>0.194065</td>\n",
       "      <td>0.480234</td>\n",
       "      <td>1.000000</td>\n",
       "      <td>0.096927</td>\n",
       "    </tr>\n",
       "    <tr>\n",
       "      <th>budget</th>\n",
       "      <td>0.039169</td>\n",
       "      <td>0.504808</td>\n",
       "      <td>0.096927</td>\n",
       "      <td>1.000000</td>\n",
       "    </tr>\n",
       "  </tbody>\n",
       "</table>\n",
       "</div>"
      ],
      "text/plain": [
       "           score     votes    profit    budget\n",
       "score   1.000000  0.393703  0.194065  0.039169\n",
       "votes   0.393703  1.000000  0.480234  0.504808\n",
       "profit  0.194065  0.480234  1.000000  0.096927\n",
       "budget  0.039169  0.504808  0.096927  1.000000"
      ]
     },
     "execution_count": 59,
     "metadata": {},
     "output_type": "execute_result"
    }
   ],
   "source": [
    "#A good place to start diving into the ML section is by computing correlations\n",
    "\n",
    "df[['score', 'votes', 'profit', 'budget']].corr()"
   ]
  },
  {
   "cell_type": "code",
   "execution_count": 60,
   "metadata": {},
   "outputs": [],
   "source": [
    "#We define as 'correlated' if its greater than 50%"
   ]
  },
  {
   "cell_type": "code",
   "execution_count": 61,
   "metadata": {},
   "outputs": [],
   "source": [
    "from sklearn.ensemble import RandomForestRegressor\n",
    "from sklearn.metrics import r2_score"
   ]
  },
  {
   "cell_type": "code",
   "execution_count": 62,
   "metadata": {},
   "outputs": [],
   "source": [
    "abt = pd.get_dummies ( df.drop(['name', 'gross', 'votes', 'score'], axis=1) ) #recall that our main objective is to predict profitability"
   ]
  },
  {
   "cell_type": "code",
   "execution_count": 63,
   "metadata": {},
   "outputs": [],
   "source": [
    "train = abt[abt.age >= 0]\n",
    "test = abt[abt.age <= 0]\n",
    "\n",
    "y_train = train.profit\n",
    "X_train = train.drop(['profit'], axis=1)\n",
    "\n",
    "y_test = test.profit\n",
    "X_test = test.drop(['profit'], axis=1)"
   ]
  },
  {
   "cell_type": "code",
   "execution_count": 64,
   "metadata": {},
   "outputs": [],
   "source": [
    "# Useful article for why choosing a random forest regressor: https://towardsdatascience.com/the-random-forest-algorithm-d457d499ffcd"
   ]
  },
  {
   "cell_type": "markdown",
   "metadata": {},
   "source": [
    "## From the article above:\n",
    "\n",
    "### Random Forest is also considered as a very handy and easy to use algorithm, because it’s default hyperparameters often produce a good prediction result. The number of hyperparameters is also not that high and they are straightforward to understand. One of the big problems in machine learning is overfitting, but most of the time this won’t happen that easy to a random forest classifier. That’s because if there are enough trees in the forest, the classifier won’t overfit the model."
   ]
  },
  {
   "cell_type": "code",
   "execution_count": 65,
   "metadata": {},
   "outputs": [
    {
     "data": {
      "text/plain": [
       "RandomForestRegressor(bootstrap=True, criterion='mse', max_depth=None,\n",
       "           max_features='auto', max_leaf_nodes=None,\n",
       "           min_impurity_decrease=0.0, min_impurity_split=None,\n",
       "           min_samples_leaf=1, min_samples_split=2,\n",
       "           min_weight_fraction_leaf=0.0, n_estimators=10, n_jobs=1,\n",
       "           oob_score=False, random_state=1234, verbose=0, warm_start=False)"
      ]
     },
     "execution_count": 65,
     "metadata": {},
     "output_type": "execute_result"
    }
   ],
   "source": [
    "# Train a basic random forest model\n",
    "rf = RandomForestRegressor(random_state=1234)\n",
    "rf.fit(X_train, y_train)\n",
    "\n"
   ]
  },
  {
   "cell_type": "code",
   "execution_count": 66,
   "metadata": {},
   "outputs": [],
   "source": [
    "# Make prediction on test set\n",
    "pred = rf.predict(X_test)"
   ]
  },
  {
   "cell_type": "code",
   "execution_count": 68,
   "metadata": {},
   "outputs": [],
   "source": [
    "import seaborn as sns"
   ]
  },
  {
   "cell_type": "code",
   "execution_count": 69,
   "metadata": {},
   "outputs": [
    {
     "name": "stderr",
     "output_type": "stream",
     "text": [
      "/Users/alejandrogarcia/anaconda3/lib/python3.6/site-packages/matplotlib/axes/_axes.py:6462: UserWarning: The 'normed' kwarg is deprecated, and has been replaced by the 'density' kwarg.\n",
      "  warnings.warn(\"The 'normed' kwarg is deprecated, and has been \"\n",
      "/Users/alejandrogarcia/anaconda3/lib/python3.6/site-packages/matplotlib/axes/_axes.py:6462: UserWarning: The 'normed' kwarg is deprecated, and has been replaced by the 'density' kwarg.\n",
      "  warnings.warn(\"The 'normed' kwarg is deprecated, and has been \"\n"
     ]
    },
    {
     "data": {
      "image/png": "[encoded data removed]",
      "text/plain": [
       "<Figure size 432x432 with 3 Axes>"
      ]
     },
     "metadata": {},
     "output_type": "display_data"
    }
   ],
   "source": [
    "sns.jointplot(y_test, pred, kind='reg')\n",
    "plt.xlabel('Actual Profit')\n",
    "plt.ylabel('Predicted Profit')\n",
    "plt.show()"
   ]
  },
  {
   "cell_type": "markdown",
   "metadata": {},
   "source": [
    "#### R^2 (coefficient of determination) regression score function.\n",
    "\n",
    "#### Best possible score is 1.0 and it can be negative (because the model can be arbitrarily worse). A constant model that always predicts the expected value of y, disregarding the input features, would get a R^2 score of 0.0."
   ]
  },
  {
   "cell_type": "code",
   "execution_count": 70,
   "metadata": {},
   "outputs": [
    {
     "data": {
      "text/plain": [
       "0.12471120486001908"
      ]
     },
     "execution_count": 70,
     "metadata": {},
     "output_type": "execute_result"
    }
   ],
   "source": [
    "r2_score(y_test, pred)"
   ]
  },
  {
   "cell_type": "code",
   "execution_count": 71,
   "metadata": {},
   "outputs": [],
   "source": [
    "# NOT A GREAT R2 SCORE"
   ]
  },
  {
   "cell_type": "code",
   "execution_count": 72,
   "metadata": {},
   "outputs": [],
   "source": [
    "abt_ps = pd.get_dummies ( df.drop(['name', 'gross', 'votes'], axis=1) ) #we kept the variable score for this new model\n",
    "\n",
    "train = abt_ps[abt_ps.age >= 0]\n",
    "test = abt_ps[abt_ps.age <= 0]\n",
    "\n",
    "y_train = train.profit\n",
    "X_train = train.drop(['profit'], axis=1)\n",
    "\n",
    "y_test = test.profit\n",
    "X_test = test.drop(['profit'], axis=1)\n",
    "\n",
    "rf = RandomForestRegressor(random_state=1234)\n",
    "rf.fit(X_train, y_train)\n",
    "\n",
    "pred = rf.predict(X_test)"
   ]
  },
  {
   "cell_type": "code",
   "execution_count": 73,
   "metadata": {},
   "outputs": [
    {
     "name": "stderr",
     "output_type": "stream",
     "text": [
      "/Users/alejandrogarcia/anaconda3/lib/python3.6/site-packages/matplotlib/axes/_axes.py:6462: UserWarning: The 'normed' kwarg is deprecated, and has been replaced by the 'density' kwarg.\n",
      "  warnings.warn(\"The 'normed' kwarg is deprecated, and has been \"\n",
      "/Users/alejandrogarcia/anaconda3/lib/python3.6/site-packages/matplotlib/axes/_axes.py:6462: UserWarning: The 'normed' kwarg is deprecated, and has been replaced by the 'density' kwarg.\n",
      "  warnings.warn(\"The 'normed' kwarg is deprecated, and has been \"\n"
     ]
    },
    {
     "data": {
      "image/png": "[encoded data removed]",
      "text/plain": [
       "<Figure size 432x432 with 3 Axes>"
      ]
     },
     "metadata": {},
     "output_type": "display_data"
    }
   ],
   "source": [
    "sns.jointplot(y_test, pred, kind='reg')\n",
    "plt.xlabel('Actual Profit')\n",
    "plt.ylabel('Predicted Profit')\n",
    "plt.show()"
   ]
  },
  {
   "cell_type": "code",
   "execution_count": 74,
   "metadata": {},
   "outputs": [
    {
     "data": {
      "text/plain": [
       "0.36381519145681196"
      ]
     },
     "execution_count": 74,
     "metadata": {},
     "output_type": "execute_result"
    }
   ],
   "source": [
    "r2_score(y_test, pred)"
   ]
  },
  {
   "cell_type": "code",
   "execution_count": 75,
   "metadata": {},
   "outputs": [],
   "source": [
    "#Much better R2 score"
   ]
  },
  {
   "cell_type": "code",
   "execution_count": 78,
   "metadata": {},
   "outputs": [],
   "source": [
    "def plot_feature_importances(columns, feature_importances, show_top_n=10):\n",
    "    feats = dict( zip(columns, feature_importances) )\n",
    "    imp = pd.DataFrame.from_dict(feats, orient='index').rename(columns={0: 'Gini-importance'})\n",
    "    imp.sort_values(by='Gini-importance').tail(show_top_n).plot(kind='barh', figsize=(8,8))\n",
    "    plt.show()"
   ]
  },
  {
   "cell_type": "code",
   "execution_count": 79,
   "metadata": {},
   "outputs": [
    {
     "data": {
      "image/png": "[encoded data removed]",
      "text/plain": [
       "<Figure size 576x576 with 1 Axes>"
      ]
     },
     "metadata": {},
     "output_type": "display_data"
    }
   ],
   "source": [
    "import matplotlib.pyplot as plt\n",
    "%matplotlib inline\n",
    "\n",
    "plot_feature_importances(X_train.columns, rf.feature_importances_)"
   ]
  },
  {
   "cell_type": "code",
   "execution_count": 80,
   "metadata": {},
   "outputs": [],
   "source": [
    "#As some Data Scientists might say, more data does not mean more results. Clearly only a few variables matter"
   ]
  },
  {
   "cell_type": "code",
   "execution_count": null,
   "metadata": {},
   "outputs": [],
   "source": []
  }
 ],
 "metadata": {
  "kernelspec": {
   "display_name": "Python 3",
   "language": "python",
   "name": "python3"
  },
  "language_info": {
   "codemirror_mode": {
    "name": "ipython",
    "version": 3
   },
   "file_extension": ".py",
   "mimetype": "text/x-python",
   "name": "python",
   "nbconvert_exporter": "python",
   "pygments_lexer": "ipython3",
   "version": "3.6.5"
  }
 },
 "nbformat": 4,
 "nbformat_minor": 2
}
