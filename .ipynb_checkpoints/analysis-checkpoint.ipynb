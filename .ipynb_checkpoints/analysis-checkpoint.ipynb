{
 "cells": [
  {
   "cell_type": "code",
   "execution_count": 1,
   "metadata": {},
   "outputs": [],
   "source": [
    "import pandas as pd\n",
    "df = pd.read_csv(\"box_office_predictions.csv\") "
   ]
  },
  {
   "cell_type": "code",
   "execution_count": 2,
   "metadata": {},
   "outputs": [
    {
     "data": {
      "text/html": [
       "<div>\n",
       "<style scoped>\n",
       "    .dataframe tbody tr th:only-of-type {\n",
       "        vertical-align: middle;\n",
       "    }\n",
       "\n",
       "    .dataframe tbody tr th {\n",
       "        vertical-align: top;\n",
       "    }\n",
       "\n",
       "    .dataframe thead th {\n",
       "        text-align: right;\n",
       "    }\n",
       "</style>\n",
       "<table border=\"1\" class=\"dataframe\">\n",
       "  <thead>\n",
       "    <tr style=\"text-align: right;\">\n",
       "      <th></th>\n",
       "      <th>budget</th>\n",
       "      <th>country</th>\n",
       "      <th>director</th>\n",
       "      <th>genre</th>\n",
       "      <th>gross</th>\n",
       "      <th>name</th>\n",
       "      <th>rating</th>\n",
       "      <th>runtime</th>\n",
       "      <th>score</th>\n",
       "      <th>star</th>\n",
       "      <th>studio</th>\n",
       "      <th>votes</th>\n",
       "    </tr>\n",
       "  </thead>\n",
       "  <tbody>\n",
       "    <tr>\n",
       "      <th>0</th>\n",
       "      <td>237000000.0</td>\n",
       "      <td>UK</td>\n",
       "      <td>James Cameron</td>\n",
       "      <td>Action</td>\n",
       "      <td>760507625.0</td>\n",
       "      <td>Avatar (2009)</td>\n",
       "      <td>PG-13</td>\n",
       "      <td>162</td>\n",
       "      <td>7.8</td>\n",
       "      <td>Sam Worthington</td>\n",
       "      <td>Twentieth Century Fox Film Corporation</td>\n",
       "      <td>958400</td>\n",
       "    </tr>\n",
       "    <tr>\n",
       "      <th>1</th>\n",
       "      <td>200000000.0</td>\n",
       "      <td>USA</td>\n",
       "      <td>James Cameron</td>\n",
       "      <td>Drama</td>\n",
       "      <td>658672302.0</td>\n",
       "      <td>Titanic (1997)</td>\n",
       "      <td>PG-13</td>\n",
       "      <td>194</td>\n",
       "      <td>7.8</td>\n",
       "      <td>Leonardo DiCaprio</td>\n",
       "      <td>Twentieth Century Fox Film Corporation</td>\n",
       "      <td>865551</td>\n",
       "    </tr>\n",
       "    <tr>\n",
       "      <th>2</th>\n",
       "      <td>150000000.0</td>\n",
       "      <td>USA</td>\n",
       "      <td>Colin Trevorrow</td>\n",
       "      <td>Action</td>\n",
       "      <td>652270625.0</td>\n",
       "      <td>Jurassic World (2015)</td>\n",
       "      <td>PG-13</td>\n",
       "      <td>124</td>\n",
       "      <td>7.0</td>\n",
       "      <td>Chris Pratt</td>\n",
       "      <td>Universal Pictures</td>\n",
       "      <td>470625</td>\n",
       "    </tr>\n",
       "    <tr>\n",
       "      <th>3</th>\n",
       "      <td>220000000.0</td>\n",
       "      <td>USA</td>\n",
       "      <td>Joss Whedon</td>\n",
       "      <td>Action</td>\n",
       "      <td>623357910.0</td>\n",
       "      <td>The Avengers (2012)</td>\n",
       "      <td>PG-13</td>\n",
       "      <td>143</td>\n",
       "      <td>8.1</td>\n",
       "      <td>Robert Downey Jr.</td>\n",
       "      <td>Marvel Studios</td>\n",
       "      <td>1069292</td>\n",
       "    </tr>\n",
       "    <tr>\n",
       "      <th>4</th>\n",
       "      <td>185000000.0</td>\n",
       "      <td>USA</td>\n",
       "      <td>Christopher Nolan</td>\n",
       "      <td>Action</td>\n",
       "      <td>534858444.0</td>\n",
       "      <td>The Dark Knight (2008)</td>\n",
       "      <td>PG-13</td>\n",
       "      <td>152</td>\n",
       "      <td>9.0</td>\n",
       "      <td>Christian Bale</td>\n",
       "      <td>Warner Bros.</td>\n",
       "      <td>1845853</td>\n",
       "    </tr>\n",
       "  </tbody>\n",
       "</table>\n",
       "</div>"
      ],
      "text/plain": [
       "        budget country           director   genre        gross  \\\n",
       "0  237000000.0      UK      James Cameron  Action  760507625.0   \n",
       "1  200000000.0     USA      James Cameron   Drama  658672302.0   \n",
       "2  150000000.0     USA    Colin Trevorrow  Action  652270625.0   \n",
       "3  220000000.0     USA        Joss Whedon  Action  623357910.0   \n",
       "4  185000000.0     USA  Christopher Nolan  Action  534858444.0   \n",
       "\n",
       "                     name rating  runtime  score               star  \\\n",
       "0           Avatar (2009)  PG-13      162    7.8    Sam Worthington   \n",
       "1          Titanic (1997)  PG-13      194    7.8  Leonardo DiCaprio   \n",
       "2   Jurassic World (2015)  PG-13      124    7.0        Chris Pratt   \n",
       "3     The Avengers (2012)  PG-13      143    8.1  Robert Downey Jr.   \n",
       "4  The Dark Knight (2008)  PG-13      152    9.0     Christian Bale   \n",
       "\n",
       "                                   studio    votes  \n",
       "0  Twentieth Century Fox Film Corporation   958400  \n",
       "1  Twentieth Century Fox Film Corporation   865551  \n",
       "2                      Universal Pictures   470625  \n",
       "3                          Marvel Studios  1069292  \n",
       "4                            Warner Bros.  1845853  "
      ]
     },
     "execution_count": 2,
     "metadata": {},
     "output_type": "execute_result"
    }
   ],
   "source": [
    "df.head()"
   ]
  },
  {
   "cell_type": "code",
   "execution_count": 3,
   "metadata": {},
   "outputs": [
    {
     "data": {
      "text/html": [
       "<div>\n",
       "<style scoped>\n",
       "    .dataframe tbody tr th:only-of-type {\n",
       "        vertical-align: middle;\n",
       "    }\n",
       "\n",
       "    .dataframe tbody tr th {\n",
       "        vertical-align: top;\n",
       "    }\n",
       "\n",
       "    .dataframe thead th {\n",
       "        text-align: right;\n",
       "    }\n",
       "</style>\n",
       "<table border=\"1\" class=\"dataframe\">\n",
       "  <thead>\n",
       "    <tr style=\"text-align: right;\">\n",
       "      <th></th>\n",
       "      <th>budget</th>\n",
       "      <th>gross</th>\n",
       "      <th>runtime</th>\n",
       "      <th>score</th>\n",
       "      <th>votes</th>\n",
       "    </tr>\n",
       "  </thead>\n",
       "  <tbody>\n",
       "    <tr>\n",
       "      <th>count</th>\n",
       "      <td>6.000000e+03</td>\n",
       "      <td>6.000000e+03</td>\n",
       "      <td>6000.000000</td>\n",
       "      <td>6000.000000</td>\n",
       "      <td>6.000000e+03</td>\n",
       "    </tr>\n",
       "    <tr>\n",
       "      <th>mean</th>\n",
       "      <td>2.469918e+07</td>\n",
       "      <td>3.341635e+07</td>\n",
       "      <td>106.587000</td>\n",
       "      <td>6.386383</td>\n",
       "      <td>7.188537e+04</td>\n",
       "    </tr>\n",
       "    <tr>\n",
       "      <th>std</th>\n",
       "      <td>3.721710e+07</td>\n",
       "      <td>5.735205e+07</td>\n",
       "      <td>18.026885</td>\n",
       "      <td>0.994921</td>\n",
       "      <td>1.308033e+05</td>\n",
       "    </tr>\n",
       "    <tr>\n",
       "      <th>min</th>\n",
       "      <td>0.000000e+00</td>\n",
       "      <td>4.410000e+02</td>\n",
       "      <td>50.000000</td>\n",
       "      <td>1.500000</td>\n",
       "      <td>2.700000e+01</td>\n",
       "    </tr>\n",
       "    <tr>\n",
       "      <th>25%</th>\n",
       "      <td>0.000000e+00</td>\n",
       "      <td>1.527796e+06</td>\n",
       "      <td>95.000000</td>\n",
       "      <td>5.800000</td>\n",
       "      <td>7.791750e+03</td>\n",
       "    </tr>\n",
       "    <tr>\n",
       "      <th>50%</th>\n",
       "      <td>1.100000e+07</td>\n",
       "      <td>1.229897e+07</td>\n",
       "      <td>102.000000</td>\n",
       "      <td>6.500000</td>\n",
       "      <td>2.660150e+04</td>\n",
       "    </tr>\n",
       "    <tr>\n",
       "      <th>75%</th>\n",
       "      <td>3.262500e+07</td>\n",
       "      <td>4.007256e+07</td>\n",
       "      <td>115.000000</td>\n",
       "      <td>7.100000</td>\n",
       "      <td>7.677475e+04</td>\n",
       "    </tr>\n",
       "    <tr>\n",
       "      <th>max</th>\n",
       "      <td>3.000000e+08</td>\n",
       "      <td>7.605076e+08</td>\n",
       "      <td>366.000000</td>\n",
       "      <td>9.300000</td>\n",
       "      <td>1.868308e+06</td>\n",
       "    </tr>\n",
       "  </tbody>\n",
       "</table>\n",
       "</div>"
      ],
      "text/plain": [
       "             budget         gross      runtime        score         votes\n",
       "count  6.000000e+03  6.000000e+03  6000.000000  6000.000000  6.000000e+03\n",
       "mean   2.469918e+07  3.341635e+07   106.587000     6.386383  7.188537e+04\n",
       "std    3.721710e+07  5.735205e+07    18.026885     0.994921  1.308033e+05\n",
       "min    0.000000e+00  4.410000e+02    50.000000     1.500000  2.700000e+01\n",
       "25%    0.000000e+00  1.527796e+06    95.000000     5.800000  7.791750e+03\n",
       "50%    1.100000e+07  1.229897e+07   102.000000     6.500000  2.660150e+04\n",
       "75%    3.262500e+07  4.007256e+07   115.000000     7.100000  7.677475e+04\n",
       "max    3.000000e+08  7.605076e+08   366.000000     9.300000  1.868308e+06"
      ]
     },
     "execution_count": 3,
     "metadata": {},
     "output_type": "execute_result"
    }
   ],
   "source": [
    "df.describe()"
   ]
  },
  {
   "cell_type": "code",
   "execution_count": 4,
   "metadata": {},
   "outputs": [
    {
     "data": {
      "text/plain": [
       "USA                               4281\n",
       "UK                                 615\n",
       "France                             249\n",
       "Canada                             126\n",
       "Germany                            119\n",
       "Australia                           71\n",
       "Japan                               59\n",
       "Spain                               50\n",
       "Italy                               47\n",
       "Ireland                             40\n",
       "Hong Kong                           38\n",
       "India                               36\n",
       "Denmark                             31\n",
       "China                               23\n",
       "South Korea                         18\n",
       "New Zealand                         17\n",
       "Sweden                              17\n",
       "Belgium                             15\n",
       "Mexico                              13\n",
       "Netherlands                         12\n",
       "Argentina                           10\n",
       "Iran                                10\n",
       "Russia                              10\n",
       "Czech Republic                       8\n",
       "Norway                               8\n",
       "Hungary                              7\n",
       "Taiwan                               7\n",
       "South Africa                         6\n",
       "Switzerland                          6\n",
       "Brazil                               5\n",
       "Austria                              4\n",
       "Israel                               4\n",
       "West Germany                         4\n",
       "Greece                               4\n",
       "Romania                              3\n",
       "Chile                                3\n",
       "Finland                              3\n",
       "Poland                               2\n",
       "Colombia                             2\n",
       "Peru                                 2\n",
       "Thailand                             2\n",
       "Indonesia                            2\n",
       "Portugal                             2\n",
       "Bahamas                              1\n",
       "Federal Republic of Yugoslavia       1\n",
       "Palestine                            1\n",
       "Saudi Arabia                         1\n",
       "Iceland                              1\n",
       "Soviet Union                         1\n",
       "Jamaica                              1\n",
       "Republic of Macedonia                1\n",
       "Malta                                1\n",
       "Name: country, dtype: int64"
      ]
     },
     "execution_count": 4,
     "metadata": {},
     "output_type": "execute_result"
    }
   ],
   "source": [
    "df['country'].value_counts()"
   ]
  },
  {
   "cell_type": "code",
   "execution_count": 5,
   "metadata": {},
   "outputs": [
    {
     "data": {
      "text/plain": [
       "Text(0,0.5,'Gross Revenue')"
      ]
     },
     "execution_count": 5,
     "metadata": {},
     "output_type": "execute_result"
    },
    {
     "data": {
      "image/png": "[encoded data removed]",
      "text/plain": [
       "<Figure size 432x288 with 1 Axes>"
      ]
     },
     "metadata": {},
     "output_type": "display_data"
    }
   ],
   "source": [
    "%matplotlib inline\n",
    "import matplotlib.pyplot as plt\n",
    "\n",
    "time = df['budget']\n",
    "\n",
    "position = df['gross']\n",
    "\n",
    "plt.plot(time, position)\n",
    "plt.xlabel('Budget')\n",
    "plt.ylabel('Gross Revenue')"
   ]
  },
  {
   "cell_type": "code",
   "execution_count": 6,
   "metadata": {},
   "outputs": [
    {
     "name": "stdout",
     "output_type": "stream",
     "text": [
      "0.716825643845\n",
      "0.664009779247\n",
      "0.224996345812\n",
      "0.161370620803\n"
     ]
    }
   ],
   "source": [
    "print(df['gross'].corr(df['budget']))\n",
    "print(df['gross'].corr(df['votes']))\n",
    "print(df['gross'].corr(df['runtime']))\n",
    "print(df['gross'].corr(df['score']))"
   ]
  },
  {
   "cell_type": "code",
   "execution_count": 7,
   "metadata": {},
   "outputs": [
    {
     "data": {
      "text/plain": [
       "Woody Allen                 29\n",
       "Steven Spielberg            20\n",
       "Clint Eastwood              20\n",
       "Ron Howard                  19\n",
       "Steven Soderbergh           18\n",
       "Oliver Stone                17\n",
       "Ridley Scott                17\n",
       "Richard Linklater           17\n",
       "Spike Lee                   16\n",
       "Joel Schumacher             16\n",
       "Barry Levinson              16\n",
       "Renny Harlin                14\n",
       "Garry Marshall              14\n",
       "Tim Burton                  13\n",
       "Rob Reiner                  13\n",
       "Stephen Frears              13\n",
       "Gus Van Sant                13\n",
       "Dennis Dugan                13\n",
       "Chris Columbus              13\n",
       "Robert Zemeckis             13\n",
       "Kenneth Branagh             12\n",
       "Pedro Almodóvar             12\n",
       "Neil Jordan                 12\n",
       "Martin Scorsese             12\n",
       "Wes Craven                  12\n",
       "Ivan Reitman                12\n",
       "Edward Zwick                12\n",
       "Bruce Beresford             12\n",
       "Ang Lee                     12\n",
       "Tony Scott                  12\n",
       "                            ..\n",
       "Eddie Murphy                 1\n",
       "Alex Kurtzman                1\n",
       "Michel Hazanavicius          1\n",
       "Terence H. Winkless          1\n",
       "László Nemes                 1\n",
       "Kamal Haasan                 1\n",
       "Takao Okawara                1\n",
       "Haile Gerima                 1\n",
       "Nat Faxon                    1\n",
       "Ritesh Batra                 1\n",
       "James Bond III               1\n",
       "Peter Sattler                1\n",
       "Matt Bettinelli-Olpin        1\n",
       "Gil Junger                   1\n",
       "Jeffrey Nachmanoff           1\n",
       "Menno Meyjes                 1\n",
       "Stephen Milburn Anderson     1\n",
       "Floria Sigismondi            1\n",
       "Jay Duplass                  1\n",
       "Daniel Waters                1\n",
       "Christopher Morris           1\n",
       "Sylvio Tabet                 1\n",
       "Lisa Krueger                 1\n",
       "Kevin Bray                   1\n",
       "Peter Masterson              1\n",
       "Milcho Manchevski            1\n",
       "David Palmer                 1\n",
       "Terry Hughes                 1\n",
       "Bob Giraldi                  1\n",
       "Florent-Emilio Siri          1\n",
       "Name: director, Length: 2549, dtype: int64"
      ]
     },
     "execution_count": 7,
     "metadata": {},
     "output_type": "execute_result"
    }
   ],
   "source": [
    "df['director'].value_counts() #director, genre, star, studio"
   ]
  },
  {
   "cell_type": "code",
   "execution_count": 8,
   "metadata": {},
   "outputs": [
    {
     "data": {
      "text/plain": [
       "Comedy       1818\n",
       "Drama        1280\n",
       "Action       1175\n",
       "Crime         463\n",
       "Adventure     340\n",
       "Biography     309\n",
       "Animation     246\n",
       "Horror        243\n",
       "Mystery        34\n",
       "Fantasy        28\n",
       "Thriller       17\n",
       "Romance        14\n",
       "Sci-Fi         13\n",
       "Family         12\n",
       "Musical         4\n",
       "War             2\n",
       "Western         2\n",
       "Name: genre, dtype: int64"
      ]
     },
     "execution_count": 8,
     "metadata": {},
     "output_type": "execute_result"
    }
   ],
   "source": [
    "df['genre'].value_counts()"
   ]
  },
  {
   "cell_type": "code",
   "execution_count": 9,
   "metadata": {},
   "outputs": [
    {
     "data": {
      "text/plain": [
       "Nicolas Cage                   38\n",
       "Robert De Niro                 35\n",
       "Tom Hanks                      29\n",
       "Denzel Washington              29\n",
       "Bruce Willis                   28\n",
       "Johnny Depp                    27\n",
       "Adam Sandler                   26\n",
       "Tom Cruise                     26\n",
       "John Travolta                  25\n",
       "Keanu Reeves                   24\n",
       "Kevin Costner                  24\n",
       "Sylvester Stallone             23\n",
       "Robin Williams                 22\n",
       "Jim Carrey                     21\n",
       "Eddie Murphy                   21\n",
       "Brad Pitt                      21\n",
       "John Cusack                    21\n",
       "Matt Damon                     21\n",
       "Mark Wahlberg                  21\n",
       "George Clooney                 21\n",
       "Jackie Chan                    20\n",
       "Steve Martin                   20\n",
       "Ben Stiller                    20\n",
       "Dennis Quaid                   20\n",
       "Ethan Hawke                    20\n",
       "Richard Gere                   19\n",
       "Mel Gibson                     19\n",
       "Sandra Bullock                 19\n",
       "Christian Bale                 18\n",
       "Will Ferrell                   18\n",
       "                               ..\n",
       "Charles Durning                 1\n",
       "Tom Cullen                      1\n",
       "Konstantin Khabenskiy           1\n",
       "Dieter Laser                    1\n",
       "Kevin Zegers                    1\n",
       "Gary Busey                      1\n",
       "Eion Bailey                     1\n",
       "Garrett Clayton                 1\n",
       "Helen Slater                    1\n",
       "Oliver Platt                    1\n",
       "Ed Speleers                     1\n",
       "Mark Strong                     1\n",
       "Aksel Hennie                    1\n",
       "Guillaume Depardieu             1\n",
       "Joan Chen                       1\n",
       "Kirk Douglas                    1\n",
       "Jamie Croft                     1\n",
       "David Paul                      1\n",
       "Scott 'Carrot Top' Thompson     1\n",
       "Kitana Kiki Rodriguez           1\n",
       "Alfred Molina                   1\n",
       "Paul Mercurio                   1\n",
       "Brad Davis                      1\n",
       "Jamie Dornan                    1\n",
       "Anne Teyssèdre                  1\n",
       "Olivia DeJonge                  1\n",
       "Pamela Adlon                    1\n",
       "Bill Sage                       1\n",
       "Robin Tunney                    1\n",
       "Stuart Graham                   1\n",
       "Name: star, Length: 2317, dtype: int64"
      ]
     },
     "execution_count": 9,
     "metadata": {},
     "output_type": "execute_result"
    }
   ],
   "source": [
    "df['star'].value_counts()"
   ]
  },
  {
   "cell_type": "code",
   "execution_count": 10,
   "metadata": {},
   "outputs": [
    {
     "data": {
      "text/plain": [
       "Universal Pictures                                269\n",
       "Warner Bros.                                      265\n",
       "Paramount Pictures                                229\n",
       "Twentieth Century Fox Film Corporation            176\n",
       "New Line Cinema                                   146\n",
       "Columbia Pictures Corporation                     143\n",
       "Touchstone Pictures                               112\n",
       "Columbia Pictures                                  96\n",
       "Walt Disney Pictures                               94\n",
       "Metro-Goldwyn-Mayer (MGM)                          82\n",
       "TriStar Pictures                                   78\n",
       "Miramax                                            64\n",
       "DreamWorks                                         62\n",
       "Castle Rock Entertainment                          57\n",
       "Fox Searchlight Pictures                           52\n",
       "Dimension Films                                    51\n",
       "Fox 2000 Pictures                                  49\n",
       "Hollywood Pictures                                 43\n",
       "Screen Gems                                        40\n",
       "Summit Entertainment                               37\n",
       "Lionsgate                                          37\n",
       "Orion Pictures                                     35\n",
       "Morgan Creek Productions                           31\n",
       "Focus Features                                     31\n",
       "Revolution Studios                                 30\n",
       "Regency Enterprises                                28\n",
       "EuropaCorp                                         26\n",
       "United Artists                                     25\n",
       "The Weinstein Company                              25\n",
       "DreamWorks Animation                               23\n",
       "                                                 ... \n",
       "Goldcrest Pictures                                  1\n",
       "Blue Haze Entertainment                             1\n",
       "George Litto Productions                            1\n",
       "Apostle                                             1\n",
       "Tax Credit Finance                                  1\n",
       "Animal Kingdom                                      1\n",
       "Bloom                                               1\n",
       "Heritage Entertainment Inc.                         1\n",
       "Alpilles Productions                                1\n",
       "BZ Entertainment                                    1\n",
       "Beofilm                                             1\n",
       "Cinépix Film Properties (CFP)                       1\n",
       "Irish Film Board                                    1\n",
       "Brownstone Productions (II)                         1\n",
       "Heathrow Productions                                1\n",
       "Propaganda Films                                    1\n",
       "Sahamongkolfilm Co.                                 1\n",
       "Dog Run Pictures                                    1\n",
       "Buffalo Films                                       1\n",
       "Six Entertainment                                   1\n",
       "Alberta Motion Picture Development Corporation      1\n",
       "Scottish Screen                                     1\n",
       "Hughes House Film                                   1\n",
       "Cheap Date                                          1\n",
       "Escape Artists                                      1\n",
       "Better Than                                         1\n",
       "CBS Entertainment Production                        1\n",
       "Brant-Allen                                         1\n",
       "Sailor Bear                                         1\n",
       "Paramount Animation                                 1\n",
       "Name: studio, Length: 1996, dtype: int64"
      ]
     },
     "execution_count": 10,
     "metadata": {},
     "output_type": "execute_result"
    }
   ],
   "source": [
    "df['studio'].value_counts()"
   ]
  },
  {
   "cell_type": "code",
   "execution_count": 11,
   "metadata": {},
   "outputs": [],
   "source": [
    "import numpy as np\n",
    "from sklearn import linear_model"
   ]
  },
  {
   "cell_type": "code",
   "execution_count": 12,
   "metadata": {},
   "outputs": [
    {
     "data": {
      "text/plain": [
       "LinearRegression(copy_X=True, fit_intercept=True, n_jobs=1, normalize=False)"
      ]
     },
     "execution_count": 12,
     "metadata": {},
     "output_type": "execute_result"
    }
   ],
   "source": [
    "reg = linear_model.LinearRegression()\n",
    "reg.fit(df[['budget', 'runtime', 'score', 'votes']], df.gross)"
   ]
  },
  {
   "cell_type": "code",
   "execution_count": 13,
   "metadata": {},
   "outputs": [
    {
     "data": {
      "text/plain": [
       "array([  7.94652665e-01,  -1.18609584e+05,  -5.20063175e+05,\n",
       "         1.83605383e+02])"
      ]
     },
     "execution_count": 13,
     "metadata": {},
     "output_type": "execute_result"
    }
   ],
   "source": [
    "reg.coef_ #all the m (coefficients) values"
   ]
  },
  {
   "cell_type": "code",
   "execution_count": 14,
   "metadata": {},
   "outputs": [
    {
     "data": {
      "text/plain": [
       "16554102.876352593"
      ]
     },
     "execution_count": 14,
     "metadata": {},
     "output_type": "execute_result"
    }
   ],
   "source": [
    "reg.intercept_"
   ]
  },
  {
   "cell_type": "code",
   "execution_count": 15,
   "metadata": {},
   "outputs": [
    {
     "data": {
      "text/plain": [
       "array([  1.97402949e+08])"
      ]
     },
     "execution_count": 15,
     "metadata": {},
     "output_type": "execute_result"
    }
   ],
   "source": [
    "reg.predict([[130000000, 146, 7.6, 538184]])"
   ]
  },
  {
   "cell_type": "code",
   "execution_count": 16,
   "metadata": {},
   "outputs": [],
   "source": [
    "import pandas as pd\n",
    "\n",
    "import matplotlib.pyplot as plt\n",
    "%matplotlib inline\n",
    "\n",
    "import seaborn as sns"
   ]
  },
  {
   "cell_type": "code",
   "execution_count": 17,
   "metadata": {},
   "outputs": [
    {
     "data": {
      "image/png": "[encoded data removed]",
      "text/plain": [
       "<Figure size 576x504 with 6 Axes>"
      ]
     },
     "metadata": {},
     "output_type": "display_data"
    }
   ],
   "source": [
    "df.hist(figsize=(8,7))\n",
    "plt.show()"
   ]
  },
  {
   "cell_type": "code",
   "execution_count": 18,
   "metadata": {},
   "outputs": [
    {
     "data": {
      "text/html": [
       "<div>\n",
       "<style scoped>\n",
       "    .dataframe tbody tr th:only-of-type {\n",
       "        vertical-align: middle;\n",
       "    }\n",
       "\n",
       "    .dataframe tbody tr th {\n",
       "        vertical-align: top;\n",
       "    }\n",
       "\n",
       "    .dataframe thead th {\n",
       "        text-align: right;\n",
       "    }\n",
       "</style>\n",
       "<table border=\"1\" class=\"dataframe\">\n",
       "  <thead>\n",
       "    <tr style=\"text-align: right;\">\n",
       "      <th></th>\n",
       "      <th>budget</th>\n",
       "      <th>gross</th>\n",
       "      <th>runtime</th>\n",
       "      <th>score</th>\n",
       "      <th>votes</th>\n",
       "    </tr>\n",
       "  </thead>\n",
       "  <tbody>\n",
       "    <tr>\n",
       "      <th>count</th>\n",
       "      <td>6.000000e+03</td>\n",
       "      <td>6.000000e+03</td>\n",
       "      <td>6000.000000</td>\n",
       "      <td>6000.000000</td>\n",
       "      <td>6.000000e+03</td>\n",
       "    </tr>\n",
       "    <tr>\n",
       "      <th>mean</th>\n",
       "      <td>2.469918e+07</td>\n",
       "      <td>3.341635e+07</td>\n",
       "      <td>106.587000</td>\n",
       "      <td>6.386383</td>\n",
       "      <td>7.188537e+04</td>\n",
       "    </tr>\n",
       "    <tr>\n",
       "      <th>std</th>\n",
       "      <td>3.721710e+07</td>\n",
       "      <td>5.735205e+07</td>\n",
       "      <td>18.026885</td>\n",
       "      <td>0.994921</td>\n",
       "      <td>1.308033e+05</td>\n",
       "    </tr>\n",
       "    <tr>\n",
       "      <th>min</th>\n",
       "      <td>0.000000e+00</td>\n",
       "      <td>4.410000e+02</td>\n",
       "      <td>50.000000</td>\n",
       "      <td>1.500000</td>\n",
       "      <td>2.700000e+01</td>\n",
       "    </tr>\n",
       "    <tr>\n",
       "      <th>25%</th>\n",
       "      <td>0.000000e+00</td>\n",
       "      <td>1.527796e+06</td>\n",
       "      <td>95.000000</td>\n",
       "      <td>5.800000</td>\n",
       "      <td>7.791750e+03</td>\n",
       "    </tr>\n",
       "    <tr>\n",
       "      <th>50%</th>\n",
       "      <td>1.100000e+07</td>\n",
       "      <td>1.229897e+07</td>\n",
       "      <td>102.000000</td>\n",
       "      <td>6.500000</td>\n",
       "      <td>2.660150e+04</td>\n",
       "    </tr>\n",
       "    <tr>\n",
       "      <th>75%</th>\n",
       "      <td>3.262500e+07</td>\n",
       "      <td>4.007256e+07</td>\n",
       "      <td>115.000000</td>\n",
       "      <td>7.100000</td>\n",
       "      <td>7.677475e+04</td>\n",
       "    </tr>\n",
       "    <tr>\n",
       "      <th>max</th>\n",
       "      <td>3.000000e+08</td>\n",
       "      <td>7.605076e+08</td>\n",
       "      <td>366.000000</td>\n",
       "      <td>9.300000</td>\n",
       "      <td>1.868308e+06</td>\n",
       "    </tr>\n",
       "  </tbody>\n",
       "</table>\n",
       "</div>"
      ],
      "text/plain": [
       "             budget         gross      runtime        score         votes\n",
       "count  6.000000e+03  6.000000e+03  6000.000000  6000.000000  6.000000e+03\n",
       "mean   2.469918e+07  3.341635e+07   106.587000     6.386383  7.188537e+04\n",
       "std    3.721710e+07  5.735205e+07    18.026885     0.994921  1.308033e+05\n",
       "min    0.000000e+00  4.410000e+02    50.000000     1.500000  2.700000e+01\n",
       "25%    0.000000e+00  1.527796e+06    95.000000     5.800000  7.791750e+03\n",
       "50%    1.100000e+07  1.229897e+07   102.000000     6.500000  2.660150e+04\n",
       "75%    3.262500e+07  4.007256e+07   115.000000     7.100000  7.677475e+04\n",
       "max    3.000000e+08  7.605076e+08   366.000000     9.300000  1.868308e+06"
      ]
     },
     "execution_count": 18,
     "metadata": {},
     "output_type": "execute_result"
    }
   ],
   "source": [
    "df.describe()"
   ]
  },
  {
   "cell_type": "code",
   "execution_count": 19,
   "metadata": {},
   "outputs": [],
   "source": [
    "# Remove films with \"0\" budget\n",
    "df = df.loc[df.budget > 0,:]"
   ]
  },
  {
   "cell_type": "code",
   "execution_count": 20,
   "metadata": {},
   "outputs": [
    {
     "data": {
      "text/plain": [
       "Universal Pictures                        235\n",
       "Warner Bros.                              231\n",
       "Paramount Pictures                        197\n",
       "Twentieth Century Fox Film Corporation    148\n",
       "New Line Cinema                           123\n",
       "Name: studio, dtype: int64"
      ]
     },
     "execution_count": 20,
     "metadata": {},
     "output_type": "execute_result"
    }
   ],
   "source": [
    "df.studio.value_counts().head()"
   ]
  },
  {
   "cell_type": "code",
   "execution_count": 21,
   "metadata": {},
   "outputs": [],
   "source": [
    "df['profit'] = df.gross - df.budget #create new column profit"
   ]
  },
  {
   "cell_type": "code",
   "execution_count": 22,
   "metadata": {},
   "outputs": [],
   "source": [
    "# Number of films from each studio\n",
    "studio_counts = df.studio.value_counts()\n",
    "\n",
    "# Tiers for sparser studios\n",
    "one_timers = studio_counts[studio_counts <= 1].index\n",
    "three_timers = studio_counts[(studio_counts > 1) & (studio_counts <= 3)].index\n",
    "five_timers = studio_counts[(studio_counts > 3) & (studio_counts <= 5)].index\n",
    "ten_timers = studio_counts[(studio_counts > 5) & (studio_counts <= 10)].index\n",
    "\n",
    "# Combine sparse studios\n",
    "df['studio'].replace(one_timers, 'One Timer', inplace=True)\n",
    "df['studio'].replace(three_timers, 'Three Timer', inplace=True)\n",
    "df['studio'].replace(five_timers, 'Five Timer', inplace=True)\n",
    "df['studio'].replace(ten_timers, 'Ten Timer', inplace=True)"
   ]
  },
  {
   "cell_type": "code",
   "execution_count": 24,
   "metadata": {},
   "outputs": [
    {
     "data": {
      "text/html": [
       "<div>\n",
       "<style scoped>\n",
       "    .dataframe tbody tr th:only-of-type {\n",
       "        vertical-align: middle;\n",
       "    }\n",
       "\n",
       "    .dataframe tbody tr th {\n",
       "        vertical-align: top;\n",
       "    }\n",
       "\n",
       "    .dataframe thead th {\n",
       "        text-align: right;\n",
       "    }\n",
       "</style>\n",
       "<table border=\"1\" class=\"dataframe\">\n",
       "  <thead>\n",
       "    <tr style=\"text-align: right;\">\n",
       "      <th></th>\n",
       "      <th>budget</th>\n",
       "      <th>country</th>\n",
       "      <th>director</th>\n",
       "      <th>genre</th>\n",
       "      <th>gross</th>\n",
       "      <th>name</th>\n",
       "      <th>rating</th>\n",
       "      <th>runtime</th>\n",
       "      <th>score</th>\n",
       "      <th>star</th>\n",
       "      <th>studio</th>\n",
       "      <th>votes</th>\n",
       "      <th>profit</th>\n",
       "    </tr>\n",
       "  </thead>\n",
       "  <tbody>\n",
       "    <tr>\n",
       "      <th>0</th>\n",
       "      <td>237000000.0</td>\n",
       "      <td>UK</td>\n",
       "      <td>James Cameron</td>\n",
       "      <td>Action</td>\n",
       "      <td>760507625.0</td>\n",
       "      <td>Avatar (2009)</td>\n",
       "      <td>PG-13</td>\n",
       "      <td>162</td>\n",
       "      <td>7.8</td>\n",
       "      <td>Sam Worthington</td>\n",
       "      <td>Twentieth Century Fox Film Corporation</td>\n",
       "      <td>958400</td>\n",
       "      <td>523507625.0</td>\n",
       "    </tr>\n",
       "    <tr>\n",
       "      <th>1</th>\n",
       "      <td>200000000.0</td>\n",
       "      <td>USA</td>\n",
       "      <td>James Cameron</td>\n",
       "      <td>Drama</td>\n",
       "      <td>658672302.0</td>\n",
       "      <td>Titanic (1997)</td>\n",
       "      <td>PG-13</td>\n",
       "      <td>194</td>\n",
       "      <td>7.8</td>\n",
       "      <td>Leonardo DiCaprio</td>\n",
       "      <td>Twentieth Century Fox Film Corporation</td>\n",
       "      <td>865551</td>\n",
       "      <td>458672302.0</td>\n",
       "    </tr>\n",
       "    <tr>\n",
       "      <th>2</th>\n",
       "      <td>150000000.0</td>\n",
       "      <td>USA</td>\n",
       "      <td>Colin Trevorrow</td>\n",
       "      <td>Action</td>\n",
       "      <td>652270625.0</td>\n",
       "      <td>Jurassic World (2015)</td>\n",
       "      <td>PG-13</td>\n",
       "      <td>124</td>\n",
       "      <td>7.0</td>\n",
       "      <td>Chris Pratt</td>\n",
       "      <td>Universal Pictures</td>\n",
       "      <td>470625</td>\n",
       "      <td>502270625.0</td>\n",
       "    </tr>\n",
       "    <tr>\n",
       "      <th>3</th>\n",
       "      <td>220000000.0</td>\n",
       "      <td>USA</td>\n",
       "      <td>Joss Whedon</td>\n",
       "      <td>Action</td>\n",
       "      <td>623357910.0</td>\n",
       "      <td>The Avengers (2012)</td>\n",
       "      <td>PG-13</td>\n",
       "      <td>143</td>\n",
       "      <td>8.1</td>\n",
       "      <td>Robert Downey Jr.</td>\n",
       "      <td>Ten Timer</td>\n",
       "      <td>1069292</td>\n",
       "      <td>403357910.0</td>\n",
       "    </tr>\n",
       "    <tr>\n",
       "      <th>4</th>\n",
       "      <td>185000000.0</td>\n",
       "      <td>USA</td>\n",
       "      <td>Christopher Nolan</td>\n",
       "      <td>Action</td>\n",
       "      <td>534858444.0</td>\n",
       "      <td>The Dark Knight (2008)</td>\n",
       "      <td>PG-13</td>\n",
       "      <td>152</td>\n",
       "      <td>9.0</td>\n",
       "      <td>Christian Bale</td>\n",
       "      <td>Warner Bros.</td>\n",
       "      <td>1845853</td>\n",
       "      <td>349858444.0</td>\n",
       "    </tr>\n",
       "  </tbody>\n",
       "</table>\n",
       "</div>"
      ],
      "text/plain": [
       "        budget country           director   genre        gross  \\\n",
       "0  237000000.0      UK      James Cameron  Action  760507625.0   \n",
       "1  200000000.0     USA      James Cameron   Drama  658672302.0   \n",
       "2  150000000.0     USA    Colin Trevorrow  Action  652270625.0   \n",
       "3  220000000.0     USA        Joss Whedon  Action  623357910.0   \n",
       "4  185000000.0     USA  Christopher Nolan  Action  534858444.0   \n",
       "\n",
       "                     name rating  runtime  score               star  \\\n",
       "0           Avatar (2009)  PG-13      162    7.8    Sam Worthington   \n",
       "1          Titanic (1997)  PG-13      194    7.8  Leonardo DiCaprio   \n",
       "2   Jurassic World (2015)  PG-13      124    7.0        Chris Pratt   \n",
       "3     The Avengers (2012)  PG-13      143    8.1  Robert Downey Jr.   \n",
       "4  The Dark Knight (2008)  PG-13      152    9.0     Christian Bale   \n",
       "\n",
       "                                   studio    votes       profit  \n",
       "0  Twentieth Century Fox Film Corporation   958400  523507625.0  \n",
       "1  Twentieth Century Fox Film Corporation   865551  458672302.0  \n",
       "2                      Universal Pictures   470625  502270625.0  \n",
       "3                               Ten Timer  1069292  403357910.0  \n",
       "4                            Warner Bros.  1845853  349858444.0  "
      ]
     },
     "execution_count": 24,
     "metadata": {},
     "output_type": "execute_result"
    }
   ],
   "source": [
    "df.head()"
   ]
  },
  {
   "cell_type": "code",
   "execution_count": 25,
   "metadata": {},
   "outputs": [],
   "source": [
    "# Number of films from each star\n",
    "star_counts = df.star.value_counts()\n",
    "\n",
    "# Tiers for sparser stars\n",
    "one_timers = star_counts[star_counts <= 1].index\n",
    "three_timers = star_counts[(star_counts > 1) & (star_counts <= 3)].index\n",
    "five_timers = star_counts[(star_counts > 3) & (star_counts <= 5)].index\n",
    "ten_timers = star_counts[(star_counts > 5) & (star_counts <= 10)].index\n",
    "\n",
    "# Combine sparse stars\n",
    "df['star'].replace(one_timers, 'One Timer', inplace=True)\n",
    "df['star'].replace(three_timers, 'Three Timer', inplace=True)\n",
    "df['star'].replace(five_timers, 'Five Timer', inplace=True)\n",
    "df['star'].replace(ten_timers, 'Ten Timer', inplace=True)"
   ]
  },
  {
   "cell_type": "code",
   "execution_count": 26,
   "metadata": {},
   "outputs": [],
   "source": [
    "# Number of films from each director\n",
    "director_counts = df.director.value_counts()\n",
    "\n",
    "# Tiers for sparser directors\n",
    "one_timers = director_counts[director_counts <= 1].index\n",
    "three_timers = director_counts[(director_counts > 1) & (director_counts <= 3)].index\n",
    "five_timers = director_counts[(director_counts > 3) & (director_counts <= 5)].index\n",
    "ten_timers = director_counts[(director_counts > 5) & (director_counts <= 10)].index\n",
    "\n",
    "# Combine sparse directors\n",
    "df['director'].replace(one_timers, 'One Timer', inplace=True)\n",
    "df['director'].replace(three_timers, 'Three Timer', inplace=True)\n",
    "df['director'].replace(five_timers, 'Five Timer', inplace=True)\n",
    "df['director'].replace(ten_timers, 'Ten Timer', inplace=True)"
   ]
  },
  {
   "cell_type": "code",
   "execution_count": 27,
   "metadata": {},
   "outputs": [
    {
     "data": {
      "text/plain": [
       "USA        3275\n",
       "UK          323\n",
       "Other       243\n",
       "France       98\n",
       "Germany      81\n",
       "Canada       69\n",
       "Name: country, dtype: int64"
      ]
     },
     "execution_count": 27,
     "metadata": {},
     "output_type": "execute_result"
    }
   ],
   "source": [
    "# Number of films from each country\n",
    "country_counts = df.country.value_counts()\n",
    "\n",
    "# Combine countries with fewer than 50 films\n",
    "other_countries = country_counts[country_counts < 50].index\n",
    "df['country'].replace(other_countries, 'Other', inplace=True)\n",
    "\n",
    "# New class frequencies\n",
    "df.country.value_counts()"
   ]
  },
  {
   "cell_type": "code",
   "execution_count": 28,
   "metadata": {},
   "outputs": [
    {
     "data": {
      "text/plain": [
       "Comedy       1136\n",
       "Action        972\n",
       "Drama         719\n",
       "Crime         315\n",
       "Adventure     253\n",
       "Animation     205\n",
       "Biography     203\n",
       "Horror        201\n",
       "Other          85\n",
       "Name: genre, dtype: int64"
      ]
     },
     "execution_count": 28,
     "metadata": {},
     "output_type": "execute_result"
    }
   ],
   "source": [
    "# Number of films in each genre\n",
    "genre_counts = df.genre.value_counts()\n",
    "\n",
    "# Combine genres with fewer than 50 films\n",
    "other_genres = genre_counts[genre_counts < 50].index\n",
    "df['genre'].replace(other_genres, 'Other', inplace=True)\n",
    "\n",
    "# New genre frequencies\n",
    "df.genre.value_counts()"
   ]
  },
  {
   "cell_type": "code",
   "execution_count": 29,
   "metadata": {},
   "outputs": [
    {
     "data": {
      "text/plain": [
       "R                2001\n",
       "PG-13            1372\n",
       "PG                562\n",
       "G                  90\n",
       "NOT RATED          36\n",
       "UNRATED            15\n",
       "NC-17               9\n",
       "Not specified       4\n",
       "Name: rating, dtype: int64"
      ]
     },
     "execution_count": 29,
     "metadata": {},
     "output_type": "execute_result"
    }
   ],
   "source": [
    "df.rating.value_counts()"
   ]
  },
  {
   "cell_type": "code",
   "execution_count": 30,
   "metadata": {},
   "outputs": [],
   "source": [
    "# Fix \"unrated\" labels\n",
    "df['rating'].replace(['NOT RATED', 'UNRATED', 'Not specified'], 'NR', inplace=True)"
   ]
  },
  {
   "cell_type": "code",
   "execution_count": 31,
   "metadata": {},
   "outputs": [
    {
     "data": {
      "text/plain": [
       "17"
      ]
     },
     "execution_count": 31,
     "metadata": {},
     "output_type": "execute_result"
    }
   ],
   "source": [
    "def extract_age(s, today=2014):\n",
    "    return today - int( s[-5:-1] )\n",
    "\n",
    "# Example\n",
    "extract_age('Titanic (1997)')"
   ]
  },
  {
   "cell_type": "code",
   "execution_count": 32,
   "metadata": {},
   "outputs": [],
   "source": [
    "# Create \"age\" feature\n",
    "df['age'] = df.name.apply(extract_age)"
   ]
  },
  {
   "cell_type": "code",
   "execution_count": 33,
   "metadata": {},
   "outputs": [
    {
     "data": {
      "text/html": [
       "<div>\n",
       "<style scoped>\n",
       "    .dataframe tbody tr th:only-of-type {\n",
       "        vertical-align: middle;\n",
       "    }\n",
       "\n",
       "    .dataframe tbody tr th {\n",
       "        vertical-align: top;\n",
       "    }\n",
       "\n",
       "    .dataframe thead th {\n",
       "        text-align: right;\n",
       "    }\n",
       "</style>\n",
       "<table border=\"1\" class=\"dataframe\">\n",
       "  <thead>\n",
       "    <tr style=\"text-align: right;\">\n",
       "      <th></th>\n",
       "      <th>score</th>\n",
       "      <th>votes</th>\n",
       "      <th>profit</th>\n",
       "    </tr>\n",
       "  </thead>\n",
       "  <tbody>\n",
       "    <tr>\n",
       "      <th>score</th>\n",
       "      <td>1.000000</td>\n",
       "      <td>0.469748</td>\n",
       "      <td>0.249742</td>\n",
       "    </tr>\n",
       "    <tr>\n",
       "      <th>votes</th>\n",
       "      <td>0.469748</td>\n",
       "      <td>1.000000</td>\n",
       "      <td>0.500129</td>\n",
       "    </tr>\n",
       "    <tr>\n",
       "      <th>profit</th>\n",
       "      <td>0.249742</td>\n",
       "      <td>0.500129</td>\n",
       "      <td>1.000000</td>\n",
       "    </tr>\n",
       "  </tbody>\n",
       "</table>\n",
       "</div>"
      ],
      "text/plain": [
       "           score     votes    profit\n",
       "score   1.000000  0.469748  0.249742\n",
       "votes   0.469748  1.000000  0.500129\n",
       "profit  0.249742  0.500129  1.000000"
      ]
     },
     "execution_count": 33,
     "metadata": {},
     "output_type": "execute_result"
    }
   ],
   "source": [
    "df[['score', 'votes', 'profit']].corr()"
   ]
  },
  {
   "cell_type": "code",
   "execution_count": 34,
   "metadata": {},
   "outputs": [
    {
     "data": {
      "text/html": [
       "<div>\n",
       "<style scoped>\n",
       "    .dataframe tbody tr th:only-of-type {\n",
       "        vertical-align: middle;\n",
       "    }\n",
       "\n",
       "    .dataframe tbody tr th {\n",
       "        vertical-align: top;\n",
       "    }\n",
       "\n",
       "    .dataframe thead th {\n",
       "        text-align: right;\n",
       "    }\n",
       "</style>\n",
       "<table border=\"1\" class=\"dataframe\">\n",
       "  <thead>\n",
       "    <tr style=\"text-align: right;\">\n",
       "      <th></th>\n",
       "      <th>score</th>\n",
       "      <th>votes</th>\n",
       "      <th>profit</th>\n",
       "      <th>budget</th>\n",
       "    </tr>\n",
       "  </thead>\n",
       "  <tbody>\n",
       "    <tr>\n",
       "      <th>score</th>\n",
       "      <td>1.000000</td>\n",
       "      <td>0.469748</td>\n",
       "      <td>0.249742</td>\n",
       "      <td>0.067490</td>\n",
       "    </tr>\n",
       "    <tr>\n",
       "      <th>votes</th>\n",
       "      <td>0.469748</td>\n",
       "      <td>1.000000</td>\n",
       "      <td>0.500129</td>\n",
       "      <td>0.452685</td>\n",
       "    </tr>\n",
       "    <tr>\n",
       "      <th>profit</th>\n",
       "      <td>0.249742</td>\n",
       "      <td>0.500129</td>\n",
       "      <td>1.000000</td>\n",
       "      <td>0.094817</td>\n",
       "    </tr>\n",
       "    <tr>\n",
       "      <th>budget</th>\n",
       "      <td>0.067490</td>\n",
       "      <td>0.452685</td>\n",
       "      <td>0.094817</td>\n",
       "      <td>1.000000</td>\n",
       "    </tr>\n",
       "  </tbody>\n",
       "</table>\n",
       "</div>"
      ],
      "text/plain": [
       "           score     votes    profit    budget\n",
       "score   1.000000  0.469748  0.249742  0.067490\n",
       "votes   0.469748  1.000000  0.500129  0.452685\n",
       "profit  0.249742  0.500129  1.000000  0.094817\n",
       "budget  0.067490  0.452685  0.094817  1.000000"
      ]
     },
     "execution_count": 34,
     "metadata": {},
     "output_type": "execute_result"
    }
   ],
   "source": [
    "df[['score', 'votes', 'profit', 'budget']].corr()"
   ]
  },
  {
   "cell_type": "code",
   "execution_count": 35,
   "metadata": {},
   "outputs": [],
   "source": [
    "from sklearn.ensemble import RandomForestRegressor\n",
    "from sklearn.metrics import r2_score"
   ]
  },
  {
   "cell_type": "code",
   "execution_count": 36,
   "metadata": {},
   "outputs": [],
   "source": [
    "# Create analytical base table (ABT)\n",
    "abt = pd.get_dummies ( df.drop(['name', 'gross', 'votes', 'score'], axis=1) )"
   ]
  },
  {
   "cell_type": "code",
   "execution_count": 37,
   "metadata": {},
   "outputs": [],
   "source": [
    "# Train / Test split based on date of training data (2014 and earlier) and test data (2015, 2016)\n",
    "train = abt[abt.age >= 0]\n",
    "test = abt[abt.age <= 0]\n",
    "\n",
    "y_train = train.profit\n",
    "X_train = train.drop(['profit'], axis=1)\n",
    "\n",
    "y_test = test.profit\n",
    "X_test = test.drop(['profit'], axis=1)"
   ]
  },
  {
   "cell_type": "code",
   "execution_count": 38,
   "metadata": {},
   "outputs": [],
   "source": [
    "# Train a basic random forest model\n",
    "rf = RandomForestRegressor(random_state=1234)\n",
    "rf.fit(X_train, y_train)\n",
    "\n",
    "# Make prediction on test set\n",
    "pred = rf.predict(X_test)"
   ]
  },
  {
   "cell_type": "code",
   "execution_count": 39,
   "metadata": {},
   "outputs": [
    {
     "name": "stderr",
     "output_type": "stream",
     "text": [
      "/Users/alejandrogarcia/anaconda3/lib/python3.6/site-packages/matplotlib/axes/_axes.py:6462: UserWarning: The 'normed' kwarg is deprecated, and has been replaced by the 'density' kwarg.\n",
      "  warnings.warn(\"The 'normed' kwarg is deprecated, and has been \"\n",
      "/Users/alejandrogarcia/anaconda3/lib/python3.6/site-packages/matplotlib/axes/_axes.py:6462: UserWarning: The 'normed' kwarg is deprecated, and has been replaced by the 'density' kwarg.\n",
      "  warnings.warn(\"The 'normed' kwarg is deprecated, and has been \"\n"
     ]
    },
    {
     "data": {
      "image/png": "[encoded data removed]",
      "text/plain": [
       "<Figure size 432x432 with 3 Axes>"
      ]
     },
     "metadata": {},
     "output_type": "display_data"
    }
   ],
   "source": [
    "sns.jointplot(y_test, pred, kind='reg')\n",
    "plt.xlabel('Actual Profit')\n",
    "plt.ylabel('Predicted Profit')\n",
    "plt.show()"
   ]
  },
  {
   "cell_type": "code",
   "execution_count": 40,
   "metadata": {},
   "outputs": [
    {
     "data": {
      "text/plain": [
       "0.21246010082831357"
      ]
     },
     "execution_count": 40,
     "metadata": {},
     "output_type": "execute_result"
    }
   ],
   "source": [
    "# R^2\n",
    "r2_score(y_test, pred)"
   ]
  },
  {
   "cell_type": "code",
   "execution_count": 41,
   "metadata": {},
   "outputs": [],
   "source": [
    "# Helper function for plotting feature importances\n",
    "def plot_feature_importances(columns, feature_importances, show_top_n=10):\n",
    "    feats = dict( zip(columns, feature_importances) )\n",
    "    imp = pd.DataFrame.from_dict(feats, orient='index').rename(columns={0: 'Gini-importance'})\n",
    "    imp.sort_values(by='Gini-importance').tail(show_top_n).plot(kind='barh', figsize=(8,8))\n",
    "    plt.show()"
   ]
  },
  {
   "cell_type": "code",
   "execution_count": 42,
   "metadata": {},
   "outputs": [
    {
     "data": {
      "image/png": "[encoded data removed]",
      "text/plain": [
       "<Figure size 576x576 with 1 Axes>"
      ]
     },
     "metadata": {},
     "output_type": "display_data"
    }
   ],
   "source": [
    "plot_feature_importances(X_train.columns, rf.feature_importances_)"
   ]
  },
  {
   "cell_type": "code",
   "execution_count": 43,
   "metadata": {},
   "outputs": [
    {
     "data": {
      "text/plain": [
       "0.16635433623841556"
      ]
     },
     "execution_count": 43,
     "metadata": {},
     "output_type": "execute_result"
    }
   ],
   "source": [
    "import numpy as np\n",
    "from sklearn.linear_model import LinearRegression\n",
    "X = train.drop(['profit'], axis=1)\n",
    "\n",
    "y = train.profit\n",
    "reg = LinearRegression().fit(X, y)\n",
    "reg.score(X, y)\n"
   ]
  },
  {
   "cell_type": "code",
   "execution_count": 44,
   "metadata": {},
   "outputs": [
    {
     "name": "stdout",
     "output_type": "stream",
     "text": [
      "<class 'pandas.core.frame.DataFrame'>\n",
      "Int64Index: 4089 entries, 0 to 5991\n",
      "Data columns (total 14 columns):\n",
      "budget      4089 non-null float64\n",
      "country     4089 non-null object\n",
      "director    4089 non-null object\n",
      "genre       4089 non-null object\n",
      "gross       4089 non-null float64\n",
      "name        4089 non-null object\n",
      "rating      4089 non-null object\n",
      "runtime     4089 non-null int64\n",
      "score       4089 non-null float64\n",
      "star        4089 non-null object\n",
      "studio      4089 non-null object\n",
      "votes       4089 non-null int64\n",
      "profit      4089 non-null float64\n",
      "age         4089 non-null int64\n",
      "dtypes: float64(4), int64(3), object(7)\n",
      "memory usage: 479.2+ KB\n"
     ]
    }
   ],
   "source": [
    "df.info()"
   ]
  },
  {
   "cell_type": "code",
   "execution_count": 48,
   "metadata": {},
   "outputs": [
    {
     "data": {
      "text/plain": [
       "budget      0\n",
       "country     0\n",
       "director    0\n",
       "genre       0\n",
       "gross       0\n",
       "name        0\n",
       "rating      0\n",
       "runtime     0\n",
       "score       0\n",
       "star        0\n",
       "studio      0\n",
       "votes       0\n",
       "profit      0\n",
       "age         0\n",
       "dtype: int64"
      ]
     },
     "execution_count": 48,
     "metadata": {},
     "output_type": "execute_result"
    }
   ],
   "source": [
    "df.isnull().sum()"
   ]
  },
  {
   "cell_type": "code",
   "execution_count": null,
   "metadata": {},
   "outputs": [],
   "source": [
    "(mpg\n",
    " .plot\n",
    " .scatter(x='star', y='profit')\n",
    " .set(title='Engine Displacement in Liters vs Highway MPG',\n",
    "      xlabel='Engine Displacement in Liters',\n",
    "      ylabel='Highway MPG'))"
   ]
  },
  {
   "cell_type": "markdown",
   "metadata": {},
   "source": [
    "Why chose random forests?\n",
    "Different kinds of models have different advantages. The random forest model is very good at handling tabular data with numerical features, or categorical features with fewer than hundreds of categories. Unlike linear models, random forests are able to capture non-linear interaction between the features and the target.\n",
    "\n",
    "One important note is that tree based models are not designed to work with very sparse features. When dealing with sparse input data (e.g. categorical features with large dimension), we can either pre-process the sparse features to generate numerical statistics, or switch to a linear model, which is better suited for such scenarios.\n",
    "\n"
   ]
  },
  {
   "cell_type": "markdown",
   "metadata": {},
   "source": [
    "Are Low R-squared Values Always a Problem?\n",
    "No! Regression models with low R-squared values can be perfectly good models for several reasons.\n",
    "\n",
    "Some fields of study have an inherently greater amount of unexplainable variation. In these areas, your R2 values are bound to be lower. For example, studies that try to explain human behavior generally have R2 values less than 50%. People are just harder to predict than things like physical processes.\n",
    "\n",
    "Fortunately, if you have a low R-squared value but the independent variables are statistically significant, you can still draw important conclusions about the relationships between the variables. Statistically significant coefficients continue to represent the mean change in the dependent variable given a one-unit shift in the independent variable. Clearly, being able to draw conclusions like this is vital.\n",
    "\n"
   ]
  },
  {
   "cell_type": "markdown",
   "metadata": {},
   "source": [
    "REPORT:\n",
    "\n",
    "1.) Introduction\n",
    "2.) Dataset\n",
    "3.) EDA\n",
    "4.) Wrangling\n",
    "5.) ML\n",
    "6.) Conclusion"
   ]
  }
 ],
 "metadata": {
  "kernelspec": {
   "display_name": "Python 3",
   "language": "python",
   "name": "python3"
  },
  "language_info": {
   "codemirror_mode": {
    "name": "ipython",
    "version": 3
   },
   "file_extension": ".py",
   "mimetype": "text/x-python",
   "name": "python",
   "nbconvert_exporter": "python",
   "pygments_lexer": "ipython3",
   "version": "3.6.5"
  }
 },
 "nbformat": 4,
 "nbformat_minor": 2
}
